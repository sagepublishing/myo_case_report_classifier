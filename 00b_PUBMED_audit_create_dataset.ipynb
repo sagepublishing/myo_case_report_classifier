{
 "cells": [
  {
   "cell_type": "markdown",
   "metadata": {},
   "source": [
    "# Audit questions\n",
    "- How well separated are our classes? If I search the 'journal article's do I find 'case-report' or some other obvious indicator of mis-classification?\n",
    "- \n",
    "\n",
    "# Data munging\n",
    "- ideally we dev/test on 2 datasets\n",
    "  - case reports\n",
    "  - an equal number of most-similar journal articles.\n",
    "- this seems ideal for learning the key features.\n",
    "- to get most-similar articles could require some extra step like tfidf/specter cosine similarity?"
   ]
  },
  {
   "cell_type": "code",
   "execution_count": 116,
   "metadata": {},
   "outputs": [],
   "source": [
    "import os\n",
    "import pandas as pd\n",
    "import numpy as np"
   ]
  },
  {
   "cell_type": "code",
   "execution_count": 117,
   "metadata": {},
   "outputs": [],
   "source": [
    "working_data_path = r'C:\\Users\\aday\\OneDrive - SAGE Publishing\\PROJECT_DATA\\pubmed_case_report_classifier\\data'\n",
    "df_path = os.path.join(working_data_path,'pubmed_sample.csv')\n",
    "pubmed = pd.read_csv(df_path) #, dtype=str, index_col = 0)\n",
    "pubmed = pubmed.drop_duplicates()\n",
    "pubmed.shape"
   ]
  },
  {
   "cell_type": "code",
   "execution_count": 118,
   "metadata": {},
   "outputs": [
    {
     "data": {
      "text/plain": [
       "(3579091, 15)"
      ]
     },
     "execution_count": 118,
     "metadata": {},
     "output_type": "execute_result"
    }
   ],
   "source": []
  },
  {
   "cell_type": "code",
   "execution_count": 119,
   "metadata": {},
   "outputs": [],
   "source": [
    "# filter non case-report / journal articles\n",
    "# if looking for 100% case-rep journals, this will have to go. \n",
    "# pubmed = pubmed[pubmed['articletype1'].isin({'D016428|Journal Article','D002363|Case Reports'})]\n",
    "# pubmed.shape"
   ]
  },
  {
   "cell_type": "code",
   "execution_count": 120,
   "metadata": {},
   "outputs": [
    {
     "data": {
      "text/html": [
       "<div>\n",
       "<style scoped>\n",
       "    .dataframe tbody tr th:only-of-type {\n",
       "        vertical-align: middle;\n",
       "    }\n",
       "\n",
       "    .dataframe tbody tr th {\n",
       "        vertical-align: top;\n",
       "    }\n",
       "\n",
       "    .dataframe thead th {\n",
       "        text-align: right;\n",
       "    }\n",
       "</style>\n",
       "<table border=\"1\" class=\"dataframe\">\n",
       "  <thead>\n",
       "    <tr style=\"text-align: right;\">\n",
       "      <th></th>\n",
       "      <th>title</th>\n",
       "      <th>articletitle</th>\n",
       "      <th>abstract</th>\n",
       "      <th>year</th>\n",
       "      <th>articledate</th>\n",
       "      <th>doi</th>\n",
       "      <th>pmid</th>\n",
       "      <th>pii</th>\n",
       "      <th>pmc</th>\n",
       "      <th>articletype1</th>\n",
       "      <th>articletype2</th>\n",
       "      <th>articletype3</th>\n",
       "      <th>journal_title</th>\n",
       "      <th>journal_issn</th>\n",
       "      <th>journal_iso</th>\n",
       "    </tr>\n",
       "  </thead>\n",
       "  <tbody>\n",
       "    <tr>\n",
       "      <th>0</th>\n",
       "      <td>International journal of molecular sciences</td>\n",
       "      <td>Insight into Cisplatin-Resistance Signaling of...</td>\n",
       "      <td>The microenvironment possesses a strong impact...</td>\n",
       "      <td>2020</td>\n",
       "      <td>2020-12-03</td>\n",
       "      <td>10.3390/ijms21239240</td>\n",
       "      <td>33287446</td>\n",
       "      <td>ijms21239240</td>\n",
       "      <td>PMC7730285</td>\n",
       "      <td>D016428|Journal Article</td>\n",
       "      <td>NaN</td>\n",
       "      <td>NaN</td>\n",
       "      <td>International journal of molecular sciences</td>\n",
       "      <td>1422-0067</td>\n",
       "      <td>Int J Mol Sci</td>\n",
       "    </tr>\n",
       "    <tr>\n",
       "      <th>1</th>\n",
       "      <td>Journal of fungi (Basel, Switzerland)</td>\n",
       "      <td>Rye Snow Mold-Associated Microdochium nivale S...</td>\n",
       "      <td>Snow mold is a severe plant disease caused by ...</td>\n",
       "      <td>2020</td>\n",
       "      <td>2020-12-03</td>\n",
       "      <td>10.3390/jof6040335</td>\n",
       "      <td>33287447</td>\n",
       "      <td>jof6040335</td>\n",
       "      <td>NaN</td>\n",
       "      <td>D016428|Journal Article</td>\n",
       "      <td>NaN</td>\n",
       "      <td>NaN</td>\n",
       "      <td>Journal of fungi (Basel, Switzerland)</td>\n",
       "      <td>2309-608X</td>\n",
       "      <td>J Fungi (Basel)</td>\n",
       "    </tr>\n",
       "    <tr>\n",
       "      <th>2</th>\n",
       "      <td>Animals : an open access journal from MDPI</td>\n",
       "      <td>Feeding Tall Fescue Seed Reduces Ewe Milk Prod...</td>\n",
       "      <td>Endophyte-infected tall fescue (E+) produces e...</td>\n",
       "      <td>2020</td>\n",
       "      <td>2020-12-03</td>\n",
       "      <td>10.3390/ani10122291</td>\n",
       "      <td>33287449</td>\n",
       "      <td>ani10122291</td>\n",
       "      <td>NaN</td>\n",
       "      <td>D016428|Journal Article</td>\n",
       "      <td>NaN</td>\n",
       "      <td>NaN</td>\n",
       "      <td>Animals : an open access journal from MDPI</td>\n",
       "      <td>2076-2615</td>\n",
       "      <td>Animals (Basel)</td>\n",
       "    </tr>\n",
       "    <tr>\n",
       "      <th>3</th>\n",
       "      <td>Micromachines</td>\n",
       "      <td>Composites, Fabrication and Application of Pol...</td>\n",
       "      <td>The technological development of piezoelectric...</td>\n",
       "      <td>2020</td>\n",
       "      <td>2020-12-03</td>\n",
       "      <td>10.3390/mi11121076</td>\n",
       "      <td>33287450</td>\n",
       "      <td>mi11121076</td>\n",
       "      <td>NaN</td>\n",
       "      <td>D016428|Journal Article</td>\n",
       "      <td>D016454|Review</td>\n",
       "      <td>NaN</td>\n",
       "      <td>Micromachines</td>\n",
       "      <td>2072-666X</td>\n",
       "      <td>Micromachines (Basel)</td>\n",
       "    </tr>\n",
       "    <tr>\n",
       "      <th>4</th>\n",
       "      <td>International journal of molecular sciences</td>\n",
       "      <td>Comparison of Bisulfite Pyrosequencing and Met...</td>\n",
       "      <td>Different methodological approaches are availa...</td>\n",
       "      <td>2020</td>\n",
       "      <td>2020-12-03</td>\n",
       "      <td>10.3390/ijms21239242</td>\n",
       "      <td>33287451</td>\n",
       "      <td>ijms21239242</td>\n",
       "      <td>PMC7730915</td>\n",
       "      <td>D016428|Journal Article</td>\n",
       "      <td>NaN</td>\n",
       "      <td>NaN</td>\n",
       "      <td>International journal of molecular sciences</td>\n",
       "      <td>1422-0067</td>\n",
       "      <td>Int J Mol Sci</td>\n",
       "    </tr>\n",
       "  </tbody>\n",
       "</table>\n",
       "</div>"
      ],
      "text/plain": [
       "                                         title  \\\n",
       "0  International journal of molecular sciences   \n",
       "1        Journal of fungi (Basel, Switzerland)   \n",
       "2   Animals : an open access journal from MDPI   \n",
       "3                                Micromachines   \n",
       "4  International journal of molecular sciences   \n",
       "\n",
       "                                        articletitle  \\\n",
       "0  Insight into Cisplatin-Resistance Signaling of...   \n",
       "1  Rye Snow Mold-Associated Microdochium nivale S...   \n",
       "2  Feeding Tall Fescue Seed Reduces Ewe Milk Prod...   \n",
       "3  Composites, Fabrication and Application of Pol...   \n",
       "4  Comparison of Bisulfite Pyrosequencing and Met...   \n",
       "\n",
       "                                            abstract  year articledate  \\\n",
       "0  The microenvironment possesses a strong impact...  2020  2020-12-03   \n",
       "1  Snow mold is a severe plant disease caused by ...  2020  2020-12-03   \n",
       "2  Endophyte-infected tall fescue (E+) produces e...  2020  2020-12-03   \n",
       "3  The technological development of piezoelectric...  2020  2020-12-03   \n",
       "4  Different methodological approaches are availa...  2020  2020-12-03   \n",
       "\n",
       "                    doi      pmid           pii         pmc  \\\n",
       "0  10.3390/ijms21239240  33287446  ijms21239240  PMC7730285   \n",
       "1    10.3390/jof6040335  33287447    jof6040335         NaN   \n",
       "2   10.3390/ani10122291  33287449   ani10122291         NaN   \n",
       "3    10.3390/mi11121076  33287450    mi11121076         NaN   \n",
       "4  10.3390/ijms21239242  33287451  ijms21239242  PMC7730915   \n",
       "\n",
       "              articletype1    articletype2 articletype3  \\\n",
       "0  D016428|Journal Article             NaN          NaN   \n",
       "1  D016428|Journal Article             NaN          NaN   \n",
       "2  D016428|Journal Article             NaN          NaN   \n",
       "3  D016428|Journal Article  D016454|Review          NaN   \n",
       "4  D016428|Journal Article             NaN          NaN   \n",
       "\n",
       "                                 journal_title journal_issn  \\\n",
       "0  International journal of molecular sciences    1422-0067   \n",
       "1        Journal of fungi (Basel, Switzerland)    2309-608X   \n",
       "2   Animals : an open access journal from MDPI    2076-2615   \n",
       "3                                Micromachines    2072-666X   \n",
       "4  International journal of molecular sciences    1422-0067   \n",
       "\n",
       "             journal_iso  \n",
       "0          Int J Mol Sci  \n",
       "1        J Fungi (Basel)  \n",
       "2        Animals (Basel)  \n",
       "3  Micromachines (Basel)  \n",
       "4          Int J Mol Sci  "
      ]
     },
     "execution_count": 120,
     "metadata": {},
     "output_type": "execute_result"
    }
   ],
   "source": [
    "pubmed.head()"
   ]
  },
  {
   "cell_type": "code",
   "execution_count": 121,
   "metadata": {},
   "outputs": [
    {
     "data": {
      "text/plain": [
       "(447748, (3579091, 15))"
      ]
     },
     "execution_count": 121,
     "metadata": {},
     "output_type": "execute_result"
    }
   ],
   "source": [
    "# are abstracts missing?\n",
    "pubmed['abstract'].isna().sum(), pubmed.shape"
   ]
  },
  {
   "cell_type": "markdown",
   "metadata": {},
   "source": [
    "## Check a super-basic classifier - i.e. just try searching for 'case-report' in ti-abs and see how the results look. \n",
    "THis shows that\n",
    "- case reports are often labeled as 'journal article' so we need a better labeling mechanism\n",
    "- plenty of genuine journal articles contain 'case-report'"
   ]
  },
  {
   "cell_type": "code",
   "execution_count": 122,
   "metadata": {},
   "outputs": [
    {
     "data": {
      "text/html": [
       "<div>\n",
       "<style scoped>\n",
       "    .dataframe tbody tr th:only-of-type {\n",
       "        vertical-align: middle;\n",
       "    }\n",
       "\n",
       "    .dataframe tbody tr th {\n",
       "        vertical-align: top;\n",
       "    }\n",
       "\n",
       "    .dataframe thead th {\n",
       "        text-align: right;\n",
       "    }\n",
       "</style>\n",
       "<table border=\"1\" class=\"dataframe\">\n",
       "  <thead>\n",
       "    <tr style=\"text-align: right;\">\n",
       "      <th></th>\n",
       "      <th>title</th>\n",
       "      <th>articletitle</th>\n",
       "      <th>abstract</th>\n",
       "      <th>year</th>\n",
       "      <th>articledate</th>\n",
       "      <th>doi</th>\n",
       "      <th>pmid</th>\n",
       "      <th>pii</th>\n",
       "      <th>pmc</th>\n",
       "      <th>articletype1</th>\n",
       "      <th>articletype2</th>\n",
       "      <th>articletype3</th>\n",
       "      <th>journal_title</th>\n",
       "      <th>journal_issn</th>\n",
       "      <th>journal_iso</th>\n",
       "      <th>case_report</th>\n",
       "    </tr>\n",
       "  </thead>\n",
       "  <tbody>\n",
       "    <tr>\n",
       "      <th>0</th>\n",
       "      <td>International journal of molecular sciences</td>\n",
       "      <td>Insight into Cisplatin-Resistance Signaling of...</td>\n",
       "      <td>The microenvironment possesses a strong impact...</td>\n",
       "      <td>2020</td>\n",
       "      <td>2020-12-03</td>\n",
       "      <td>10.3390/ijms21239240</td>\n",
       "      <td>33287446</td>\n",
       "      <td>ijms21239240</td>\n",
       "      <td>PMC7730285</td>\n",
       "      <td>D016428|Journal Article</td>\n",
       "      <td>NaN</td>\n",
       "      <td>NaN</td>\n",
       "      <td>International journal of molecular sciences</td>\n",
       "      <td>1422-0067</td>\n",
       "      <td>Int J Mol Sci</td>\n",
       "      <td>0</td>\n",
       "    </tr>\n",
       "    <tr>\n",
       "      <th>1</th>\n",
       "      <td>Journal of fungi (Basel, Switzerland)</td>\n",
       "      <td>Rye Snow Mold-Associated Microdochium nivale S...</td>\n",
       "      <td>Snow mold is a severe plant disease caused by ...</td>\n",
       "      <td>2020</td>\n",
       "      <td>2020-12-03</td>\n",
       "      <td>10.3390/jof6040335</td>\n",
       "      <td>33287447</td>\n",
       "      <td>jof6040335</td>\n",
       "      <td>NaN</td>\n",
       "      <td>D016428|Journal Article</td>\n",
       "      <td>NaN</td>\n",
       "      <td>NaN</td>\n",
       "      <td>Journal of fungi (Basel, Switzerland)</td>\n",
       "      <td>2309-608X</td>\n",
       "      <td>J Fungi (Basel)</td>\n",
       "      <td>0</td>\n",
       "    </tr>\n",
       "    <tr>\n",
       "      <th>2</th>\n",
       "      <td>Animals : an open access journal from MDPI</td>\n",
       "      <td>Feeding Tall Fescue Seed Reduces Ewe Milk Prod...</td>\n",
       "      <td>Endophyte-infected tall fescue (E+) produces e...</td>\n",
       "      <td>2020</td>\n",
       "      <td>2020-12-03</td>\n",
       "      <td>10.3390/ani10122291</td>\n",
       "      <td>33287449</td>\n",
       "      <td>ani10122291</td>\n",
       "      <td>NaN</td>\n",
       "      <td>D016428|Journal Article</td>\n",
       "      <td>NaN</td>\n",
       "      <td>NaN</td>\n",
       "      <td>Animals : an open access journal from MDPI</td>\n",
       "      <td>2076-2615</td>\n",
       "      <td>Animals (Basel)</td>\n",
       "      <td>0</td>\n",
       "    </tr>\n",
       "    <tr>\n",
       "      <th>3</th>\n",
       "      <td>Micromachines</td>\n",
       "      <td>Composites, Fabrication and Application of Pol...</td>\n",
       "      <td>The technological development of piezoelectric...</td>\n",
       "      <td>2020</td>\n",
       "      <td>2020-12-03</td>\n",
       "      <td>10.3390/mi11121076</td>\n",
       "      <td>33287450</td>\n",
       "      <td>mi11121076</td>\n",
       "      <td>NaN</td>\n",
       "      <td>D016428|Journal Article</td>\n",
       "      <td>D016454|Review</td>\n",
       "      <td>NaN</td>\n",
       "      <td>Micromachines</td>\n",
       "      <td>2072-666X</td>\n",
       "      <td>Micromachines (Basel)</td>\n",
       "      <td>0</td>\n",
       "    </tr>\n",
       "    <tr>\n",
       "      <th>4</th>\n",
       "      <td>International journal of molecular sciences</td>\n",
       "      <td>Comparison of Bisulfite Pyrosequencing and Met...</td>\n",
       "      <td>Different methodological approaches are availa...</td>\n",
       "      <td>2020</td>\n",
       "      <td>2020-12-03</td>\n",
       "      <td>10.3390/ijms21239242</td>\n",
       "      <td>33287451</td>\n",
       "      <td>ijms21239242</td>\n",
       "      <td>PMC7730915</td>\n",
       "      <td>D016428|Journal Article</td>\n",
       "      <td>NaN</td>\n",
       "      <td>NaN</td>\n",
       "      <td>International journal of molecular sciences</td>\n",
       "      <td>1422-0067</td>\n",
       "      <td>Int J Mol Sci</td>\n",
       "      <td>0</td>\n",
       "    </tr>\n",
       "  </tbody>\n",
       "</table>\n",
       "</div>"
      ],
      "text/plain": [
       "                                         title  \\\n",
       "0  International journal of molecular sciences   \n",
       "1        Journal of fungi (Basel, Switzerland)   \n",
       "2   Animals : an open access journal from MDPI   \n",
       "3                                Micromachines   \n",
       "4  International journal of molecular sciences   \n",
       "\n",
       "                                        articletitle  \\\n",
       "0  Insight into Cisplatin-Resistance Signaling of...   \n",
       "1  Rye Snow Mold-Associated Microdochium nivale S...   \n",
       "2  Feeding Tall Fescue Seed Reduces Ewe Milk Prod...   \n",
       "3  Composites, Fabrication and Application of Pol...   \n",
       "4  Comparison of Bisulfite Pyrosequencing and Met...   \n",
       "\n",
       "                                            abstract  year articledate  \\\n",
       "0  The microenvironment possesses a strong impact...  2020  2020-12-03   \n",
       "1  Snow mold is a severe plant disease caused by ...  2020  2020-12-03   \n",
       "2  Endophyte-infected tall fescue (E+) produces e...  2020  2020-12-03   \n",
       "3  The technological development of piezoelectric...  2020  2020-12-03   \n",
       "4  Different methodological approaches are availa...  2020  2020-12-03   \n",
       "\n",
       "                    doi      pmid           pii         pmc  \\\n",
       "0  10.3390/ijms21239240  33287446  ijms21239240  PMC7730285   \n",
       "1    10.3390/jof6040335  33287447    jof6040335         NaN   \n",
       "2   10.3390/ani10122291  33287449   ani10122291         NaN   \n",
       "3    10.3390/mi11121076  33287450    mi11121076         NaN   \n",
       "4  10.3390/ijms21239242  33287451  ijms21239242  PMC7730915   \n",
       "\n",
       "              articletype1    articletype2 articletype3  \\\n",
       "0  D016428|Journal Article             NaN          NaN   \n",
       "1  D016428|Journal Article             NaN          NaN   \n",
       "2  D016428|Journal Article             NaN          NaN   \n",
       "3  D016428|Journal Article  D016454|Review          NaN   \n",
       "4  D016428|Journal Article             NaN          NaN   \n",
       "\n",
       "                                 journal_title journal_issn  \\\n",
       "0  International journal of molecular sciences    1422-0067   \n",
       "1        Journal of fungi (Basel, Switzerland)    2309-608X   \n",
       "2   Animals : an open access journal from MDPI    2076-2615   \n",
       "3                                Micromachines    2072-666X   \n",
       "4  International journal of molecular sciences    1422-0067   \n",
       "\n",
       "             journal_iso  case_report  \n",
       "0          Int J Mol Sci            0  \n",
       "1        J Fungi (Basel)            0  \n",
       "2        Animals (Basel)            0  \n",
       "3  Micromachines (Basel)            0  \n",
       "4          Int J Mol Sci            0  "
      ]
     },
     "execution_count": 122,
     "metadata": {},
     "output_type": "execute_result"
    }
   ],
   "source": [
    "pubmed['case_report'] = pubmed['articletype1'].map(lambda x: 1 if x=='D002363|Case Reports' else 0)\n",
    "pubmed.head()"
   ]
  },
  {
   "cell_type": "code",
   "execution_count": 123,
   "metadata": {},
   "outputs": [],
   "source": [
    "# baseline classifier\n",
    "# what is the successrate if we just look for everything containing 'case report'\n",
    "pubmed['tiabs'] = pubmed['articletitle'] + ' ' + pubmed['abstract']\n",
    "pubmed['baseline'] = pubmed['tiabs'].map(lambda x: 1 if 'case report' in str(x).lower().strip().replace('-', ' ') else 0)"
   ]
  },
  {
   "cell_type": "markdown",
   "metadata": {},
   "source": [
    "Several examples of misclassified case-reports. E.g. 10.1080/00207454.2020.1860965"
   ]
  },
  {
   "cell_type": "code",
   "execution_count": 124,
   "metadata": {},
   "outputs": [
    {
     "data": {
      "text/plain": [
       "'Bioinformatic analysis and functional predictions of selected regeneration-associated transcripts expressed by zebrafish microglia. Unlike mammals, zebrafish have a remarkable capacity to regenerate a variety of tissues, including central nervous system tissue. The function of macrophages in tissue regeneration is of great interest, as macrophages respond and participate in the landscape of events that occur following tissue injury in all vertebrate species examined. Understanding macrophage populations in regenerating tissue (such as in zebrafish) may inform strategies that aim to regenerate tissue in humans. We recently published an RNA-seq experiment that identified genes enriched in microglia/macrophages in regenerating zebrafish retinas. Interestingly, a small number of transcripts differentially expressed by retinal microglia/macrophages during retinal regeneration did not have predicted orthologs in human or mouse. We reasoned that at least some of these genes could be functionally important for tissue regeneration, but most of these genes have not been studied experimentally and their functions are largely unknown. To reveal their possible functions, we performed a variety of bioinformatic analyses aimed at identifying the presence of functional protein domains as well as orthologous relationships to other species. Our analyses identified putative functional domains in predicted proteins for a number of selected genes. For example, we confidently predict kinase function for one gene, cytokine/chemokine function for another, and carbohydrate enzymatic function for a third. Predicted orthologs were identified for some, but not all, genes in species with described regenerative capacity, and functional domains were consistent with identified orthologs. Comparison to other published gene expression datasets suggest that at least some of these genes could be important in regenerative responses in zebrafish and not necessarily in response to microbial infection. This work reveals previously undescribed putative function of several genes implicated in regulating tissue regeneration. This will inform future work to experimentally determine the function of these genes in vivo, and how these genes may be involved in microglia/macrophage roles in tissue regeneration.'"
      ]
     },
     "execution_count": 124,
     "metadata": {},
     "output_type": "execute_result"
    }
   ],
   "source": [
    "pubmed.iloc[239]['tiabs']"
   ]
  },
  {
   "cell_type": "code",
   "execution_count": 125,
   "metadata": {},
   "outputs": [
    {
     "data": {
      "text/plain": [
       "title                                                 BMC genomics\n",
       "articletitle     Bioinformatic analysis and functional predicti...\n",
       "abstract         Unlike mammals, zebrafish have a remarkable ca...\n",
       "year                                                          2020\n",
       "articledate                                             2020-12-07\n",
       "doi                                     10.1186/s12864-020-07273-8\n",
       "pmid                                                      33287696\n",
       "pii                                     10.1186/s12864-020-07273-8\n",
       "pmc                                                     PMC7720500\n",
       "articletype1                               D016428|Journal Article\n",
       "articletype2                                                   NaN\n",
       "articletype3                                                   NaN\n",
       "journal_title                                         BMC genomics\n",
       "journal_issn                                             1471-2164\n",
       "journal_iso                                           BMC Genomics\n",
       "case_report                                                      0\n",
       "tiabs            Bioinformatic analysis and functional predicti...\n",
       "baseline                                                         0\n",
       "Name: 239, dtype: object"
      ]
     },
     "execution_count": 125,
     "metadata": {},
     "output_type": "execute_result"
    }
   ],
   "source": [
    "pubmed.iloc[239]"
   ]
  },
  {
   "cell_type": "code",
   "execution_count": 126,
   "metadata": {},
   "outputs": [
    {
     "data": {
      "text/plain": [
       "0.6147904775941258"
      ]
     },
     "execution_count": 126,
     "metadata": {},
     "output_type": "execute_result"
    }
   ],
   "source": [
    "from sklearn.metrics import balanced_accuracy_score\n",
    "\n",
    "y_true = pubmed['case_report'].values\n",
    "y_pred = pubmed['baseline'].values\n",
    "balanced_accuracy_score(y_true, y_pred)"
   ]
  },
  {
   "cell_type": "code",
   "execution_count": 127,
   "metadata": {},
   "outputs": [
    {
     "data": {
      "text/plain": [
       "(0    3428044\n",
       " 1     151047\n",
       " Name: case_report, dtype: int64,\n",
       " 0    3526986\n",
       " 1      52105\n",
       " Name: baseline, dtype: int64)"
      ]
     },
     "execution_count": 127,
     "metadata": {},
     "output_type": "execute_result"
    }
   ],
   "source": [
    "pubmed['case_report'].value_counts(), pubmed['baseline'].value_counts()"
   ]
  },
  {
   "cell_type": "code",
   "execution_count": 128,
   "metadata": {},
   "outputs": [
    {
     "data": {
      "text/plain": [
       "[Text(0, 0.5, 'Not case report'), Text(0, 1.5, 'Case report')]"
      ]
     },
     "execution_count": 128,
     "metadata": {},
     "output_type": "execute_result"
    },
    {
     "data": {
      "image/png": "[encoded data removed]",
      "text/plain": [
       "<Figure size 432x288 with 2 Axes>"
      ]
     },
     "metadata": {
      "needs_background": "light"
     },
     "output_type": "display_data"
    }
   ],
   "source": [
    "from sklearn.metrics import confusion_matrix\n",
    "from matplotlib import pyplot as plt\n",
    "import seaborn as sns\n",
    "fig, ax = plt.subplots()\n",
    " \n",
    "cm = confusion_matrix(y_true, y_pred)\n",
    "tn, fp, fn, tp = cm.ravel()\n",
    "# cm = [[tp,fp],[fn,tn]]\n",
    " \n",
    "#Plot the matrix\n",
    "sns.heatmap(cm, annot=True, fmt = \"d\", cmap=\"Spectral\")\n",
    " \n",
    "# labels, title and ticks\n",
    "ax.set_ylabel('ACTUAL LABELS')\n",
    "ax.set_xlabel('PREDICTED LABELS') \n",
    "ax.set_title('Confusion Matrix')\n",
    "ax.xaxis.set_ticklabels(['Not case report','Case report'])\n",
    "ax.yaxis.set_ticklabels(['Not case report','Case report'])\n"
   ]
  },
  {
   "cell_type": "code",
   "execution_count": null,
   "metadata": {},
   "outputs": [],
   "source": []
  },
  {
   "cell_type": "markdown",
   "metadata": {},
   "source": [
    "# Can we find journals which are 100% case-reports?"
   ]
  },
  {
   "cell_type": "markdown",
   "metadata": {},
   "source": [
    "Obvious strategy - look for journals with case report in the title"
   ]
  },
  {
   "cell_type": "code",
   "execution_count": 129,
   "metadata": {},
   "outputs": [],
   "source": [
    "case_rep_journals = pubmed[['case report' in str(x).lower() for x in pubmed['journal_title']]].journal_title.unique().tolist()"
   ]
  },
  {
   "cell_type": "code",
   "execution_count": null,
   "metadata": {},
   "outputs": [],
   "source": []
  },
  {
   "cell_type": "markdown",
   "metadata": {},
   "source": [
    "Strategy 2 - look for journals with high % case reports"
   ]
  },
  {
   "cell_type": "code",
   "execution_count": 130,
   "metadata": {},
   "outputs": [
    {
     "data": {
      "text/plain": [
       "(151180, 18)"
      ]
     },
     "execution_count": 130,
     "metadata": {},
     "output_type": "execute_result"
    }
   ],
   "source": [
    "casereports = pubmed[(pubmed['articletype1']=='D002363|Case Reports')|(pubmed['articletype2']=='D002363|Case Reports')]\n",
    "casereports.shape"
   ]
  },
  {
   "cell_type": "code",
   "execution_count": 131,
   "metadata": {},
   "outputs": [
    {
     "data": {
      "text/plain": [
       "Scientific reports                                                                              57311\n",
       "PloS one                                                                                        47242\n",
       "International journal of molecular sciences                                                     18768\n",
       "The Science of the total environment                                                            18747\n",
       "Nature communications                                                                           16541\n",
       "                                                                                                ...  \n",
       "Clinics of surgery                                                                                  1\n",
       "Inventions (Basel, Switzerland)                                                                     1\n",
       "Family & community history : journal of the Family and Community Historical Research Society        1\n",
       "Journal for nature conservation                                                                     1\n",
       "International journal of computer integrated manufacturing                                          1\n",
       "Name: journal_title, Length: 11794, dtype: int64"
      ]
     },
     "execution_count": 131,
     "metadata": {},
     "output_type": "execute_result"
    }
   ],
   "source": [
    "pm_vc = pubmed.journal_title.value_counts()\n",
    "pm_vc"
   ]
  },
  {
   "cell_type": "code",
   "execution_count": 132,
   "metadata": {},
   "outputs": [
    {
     "data": {
      "text/plain": [
       "Cureus                                                         4908\n",
       "BMJ case reports                                               4797\n",
       "Medicine                                                       3452\n",
       "World neurosurgery                                             2227\n",
       "Clinical case reports                                          1380\n",
       "                                                               ... \n",
       "Geriatrie et psychologie neuropsychiatrie du vieillissement       1\n",
       "European heart journal. Quality of care & clinical outcomes       1\n",
       "Clinical implant dentistry and related research                   1\n",
       "The Libyan journal of medicine                                    1\n",
       "HIV medicine                                                      1\n",
       "Name: journal_title, Length: 3687, dtype: int64"
      ]
     },
     "execution_count": 132,
     "metadata": {},
     "output_type": "execute_result"
    }
   ],
   "source": [
    "cr_vc = casereports.journal_title.value_counts()\n",
    "cr_vc"
   ]
  },
  {
   "cell_type": "code",
   "execution_count": 133,
   "metadata": {},
   "outputs": [],
   "source": [
    "jnames = []\n",
    "for jname in cr_vc.index.tolist():\n",
    "    count = cr_vc[jname]\n",
    "    if count>30: # arbitrary number - just want large journals.\n",
    "        pubmed_count = pm_vc[jname]\n",
    "        if 0.9*pubmed_count<=count:\n",
    "            jnames.append(jname)\n",
    "case_rep_candidates = [x for x in jnames if x not in set(case_rep_journals)]"
   ]
  },
  {
   "cell_type": "code",
   "execution_count": 134,
   "metadata": {},
   "outputs": [
    {
     "data": {
      "text/plain": [
       "CASE (Philadelphia, Pa.)                               231\n",
       "GMS ophthalmology cases                                 83\n",
       "European journal of pediatric surgery reports           78\n",
       "JBJS case connector                                     78\n",
       "Journal of oral and maxillofacial pathology : JOMFP     60\n",
       "The Thoracic and cardiovascular surgeon reports         44\n",
       "Journal of neurological surgery reports                 37\n",
       "Clinical nephrology. Case studies                       35\n",
       "Name: journal_title, dtype: int64"
      ]
     },
     "execution_count": 134,
     "metadata": {},
     "output_type": "execute_result"
    }
   ],
   "source": [
    "# how big are they?\n",
    "cr_vc[case_rep_candidates]"
   ]
  },
  {
   "cell_type": "code",
   "execution_count": 135,
   "metadata": {},
   "outputs": [
    {
     "data": {
      "text/plain": [
       "55"
      ]
     },
     "execution_count": 135,
     "metadata": {},
     "output_type": "execute_result"
    }
   ],
   "source": [
    "# get a set of case report ISSNs\n",
    "cr_issns = list(set(pubmed[pubmed['journal_title'].isin(set(jnames))]['journal_issn'].tolist()))\n",
    "len(cr_issns)"
   ]
  },
  {
   "cell_type": "code",
   "execution_count": 136,
   "metadata": {},
   "outputs": [
    {
     "data": {
      "text/plain": [
       "(12168, 18)"
      ]
     },
     "execution_count": 136,
     "metadata": {},
     "output_type": "execute_result"
    }
   ],
   "source": [
    "pubmed[pubmed['journal_issn'].isin(set(cr_issns))].shape"
   ]
  },
  {
   "cell_type": "markdown",
   "metadata": {},
   "source": [
    "## Next - can we get a -ve class?\n",
    "- look at SAGE journals which do not accept case reports\n",
    "  - SMO 2050-3121\n",
    "  - SCO (for +ve classes) 2051-313X\n",
    "  - OED (mixed - avoid) 2515-8414\n",
    "  - TAR 1753-4666\n",
    "  - TAN 1756-2864\n",
    "  - TCT 1533-0338 / 1533-0346\n",
    "  - CCX 1073-2748"
   ]
  },
  {
   "cell_type": "code",
   "execution_count": 137,
   "metadata": {},
   "outputs": [
    {
     "data": {
      "text/plain": [
       "(712, 18)"
      ]
     },
     "execution_count": 137,
     "metadata": {},
     "output_type": "execute_result"
    }
   ],
   "source": [
    "non_case_report_issns = {'2050-3121', '1753-4666', '1756-2864', '1533-0338', '1533-0346', '1073-2748'}\n",
    "pubmed[pubmed['journal_issn'].isin(non_case_report_issns)].shape"
   ]
  },
  {
   "cell_type": "code",
   "execution_count": 138,
   "metadata": {},
   "outputs": [
    {
     "name": "stdout",
     "output_type": "stream",
     "text": [
      "2050-3121 (446, 18)\n",
      "1753-4666 (0, 18)\n",
      "1756-2864 (0, 18)\n",
      "1533-0338 (266, 18)\n",
      "1533-0346 (0, 18)\n",
      "1073-2748 (0, 18)\n"
     ]
    }
   ],
   "source": [
    "non_case_report_issns = ['2050-3121', '1753-4666', '1756-2864', '1533-0338', '1533-0346', '1073-2748']\n",
    "for x in non_case_report_issns:\n",
    "    print(x,pubmed[pubmed['journal_issn']==x].shape)"
   ]
  },
  {
   "cell_type": "code",
   "execution_count": 139,
   "metadata": {},
   "outputs": [],
   "source": [
    "## ASIDE: lets save these for testing later\n",
    "pubmed[pubmed['journal_issn'].isin(non_case_report_issns)].to_csv('real_world_data.csv', index = False)"
   ]
  },
  {
   "cell_type": "markdown",
   "metadata": {},
   "source": [
    "### Above didn't work. Try just taking a random sample for now"
   ]
  },
  {
   "cell_type": "code",
   "execution_count": 140,
   "metadata": {},
   "outputs": [],
   "source": [
    "## balanced set for now. No real need to do this. \n",
    "casereports = pubmed[pubmed['journal_issn'].isin(set(cr_issns))] \n"
   ]
  },
  {
   "cell_type": "code",
   "execution_count": 141,
   "metadata": {},
   "outputs": [
    {
     "data": {
      "text/html": [
       "<div>\n",
       "<style scoped>\n",
       "    .dataframe tbody tr th:only-of-type {\n",
       "        vertical-align: middle;\n",
       "    }\n",
       "\n",
       "    .dataframe tbody tr th {\n",
       "        vertical-align: top;\n",
       "    }\n",
       "\n",
       "    .dataframe thead th {\n",
       "        text-align: right;\n",
       "    }\n",
       "</style>\n",
       "<table border=\"1\" class=\"dataframe\">\n",
       "  <thead>\n",
       "    <tr style=\"text-align: right;\">\n",
       "      <th></th>\n",
       "      <th>title</th>\n",
       "      <th>articletitle</th>\n",
       "      <th>abstract</th>\n",
       "      <th>year</th>\n",
       "      <th>articledate</th>\n",
       "      <th>doi</th>\n",
       "      <th>pmid</th>\n",
       "      <th>pii</th>\n",
       "      <th>pmc</th>\n",
       "      <th>articletype1</th>\n",
       "      <th>articletype2</th>\n",
       "      <th>articletype3</th>\n",
       "      <th>journal_title</th>\n",
       "      <th>journal_issn</th>\n",
       "      <th>journal_iso</th>\n",
       "      <th>case_report</th>\n",
       "      <th>tiabs</th>\n",
       "      <th>baseline</th>\n",
       "    </tr>\n",
       "  </thead>\n",
       "  <tbody>\n",
       "    <tr>\n",
       "      <th>1407</th>\n",
       "      <td>Radiology case reports</td>\n",
       "      <td>Tension pneumothorax in patient with COVID-19 ...</td>\n",
       "      <td>Corona-virus infection that arose from China i...</td>\n",
       "      <td>2021</td>\n",
       "      <td>2020-12-02</td>\n",
       "      <td>10.1016/j.radcr.2020.11.044</td>\n",
       "      <td>33288986</td>\n",
       "      <td>S1930-0433(20)30620-8</td>\n",
       "      <td>PMC7709726</td>\n",
       "      <td>D002363|Case Reports</td>\n",
       "      <td>NaN</td>\n",
       "      <td>NaN</td>\n",
       "      <td>Radiology case reports</td>\n",
       "      <td>1930-0433</td>\n",
       "      <td>Radiol Case Rep</td>\n",
       "      <td>1</td>\n",
       "      <td>Tension pneumothorax in patient with COVID-19 ...</td>\n",
       "      <td>0</td>\n",
       "    </tr>\n",
       "    <tr>\n",
       "      <th>1408</th>\n",
       "      <td>Radiology case reports</td>\n",
       "      <td>Fatal pulmonary fibrosis complicating COVID-19...</td>\n",
       "      <td>Only a few earlier clinical radiologic reports...</td>\n",
       "      <td>2021</td>\n",
       "      <td>2020-12-02</td>\n",
       "      <td>10.1016/j.radcr.2020.11.050</td>\n",
       "      <td>33288987</td>\n",
       "      <td>S1930-0433(20)30626-9</td>\n",
       "      <td>PMC7709725</td>\n",
       "      <td>D002363|Case Reports</td>\n",
       "      <td>NaN</td>\n",
       "      <td>NaN</td>\n",
       "      <td>Radiology case reports</td>\n",
       "      <td>1930-0433</td>\n",
       "      <td>Radiol Case Rep</td>\n",
       "      <td>1</td>\n",
       "      <td>Fatal pulmonary fibrosis complicating COVID-19...</td>\n",
       "      <td>0</td>\n",
       "    </tr>\n",
       "  </tbody>\n",
       "</table>\n",
       "</div>"
      ],
      "text/plain": [
       "                       title  \\\n",
       "1407  Radiology case reports   \n",
       "1408  Radiology case reports   \n",
       "\n",
       "                                           articletitle  \\\n",
       "1407  Tension pneumothorax in patient with COVID-19 ...   \n",
       "1408  Fatal pulmonary fibrosis complicating COVID-19...   \n",
       "\n",
       "                                               abstract  year articledate  \\\n",
       "1407  Corona-virus infection that arose from China i...  2021  2020-12-02   \n",
       "1408  Only a few earlier clinical radiologic reports...  2021  2020-12-02   \n",
       "\n",
       "                              doi      pmid                    pii  \\\n",
       "1407  10.1016/j.radcr.2020.11.044  33288986  S1930-0433(20)30620-8   \n",
       "1408  10.1016/j.radcr.2020.11.050  33288987  S1930-0433(20)30626-9   \n",
       "\n",
       "             pmc          articletype1 articletype2 articletype3  \\\n",
       "1407  PMC7709726  D002363|Case Reports          NaN          NaN   \n",
       "1408  PMC7709725  D002363|Case Reports          NaN          NaN   \n",
       "\n",
       "               journal_title journal_issn      journal_iso  case_report  \\\n",
       "1407  Radiology case reports    1930-0433  Radiol Case Rep            1   \n",
       "1408  Radiology case reports    1930-0433  Radiol Case Rep            1   \n",
       "\n",
       "                                                  tiabs  baseline  \n",
       "1407  Tension pneumothorax in patient with COVID-19 ...         0  \n",
       "1408  Fatal pulmonary fibrosis complicating COVID-19...         0  "
      ]
     },
     "execution_count": 141,
     "metadata": {},
     "output_type": "execute_result"
    }
   ],
   "source": [
    "casereports.head(2)"
   ]
  },
  {
   "cell_type": "markdown",
   "metadata": {},
   "source": [
    "## Filter reviews in case-report journals"
   ]
  },
  {
   "cell_type": "code",
   "execution_count": 142,
   "metadata": {},
   "outputs": [
    {
     "data": {
      "text/plain": [
       "D016428|Journal Article              78\n",
       "D016425|Published Erratum            35\n",
       "D016454|Review                        7\n",
       "D016420|Comment                       5\n",
       "D016440|Retraction of Publication     2\n",
       "D002363|Case Reports                  1\n",
       "D016441|Retracted Publication         1\n",
       "Name: articletype2, dtype: int64"
      ]
     },
     "execution_count": 142,
     "metadata": {},
     "output_type": "execute_result"
    }
   ],
   "source": [
    "casereports['articletype2'].value_counts()"
   ]
  },
  {
   "cell_type": "code",
   "execution_count": 143,
   "metadata": {},
   "outputs": [
    {
     "data": {
      "text/plain": [
       "D002363|Case Reports         11936\n",
       "D016428|Journal Article        166\n",
       "D016425|Published Erratum       34\n",
       "D016421|Editorial               30\n",
       "D016433|News                     1\n",
       "D016417|Bibliography             1\n",
       "Name: articletype1, dtype: int64"
      ]
     },
     "execution_count": 143,
     "metadata": {},
     "output_type": "execute_result"
    }
   ],
   "source": [
    "casereports['articletype1'].value_counts()"
   ]
  },
  {
   "cell_type": "code",
   "execution_count": 144,
   "metadata": {},
   "outputs": [
    {
     "data": {
      "text/plain": [
       "(11936, 18)"
      ]
     },
     "execution_count": 144,
     "metadata": {},
     "output_type": "execute_result"
    }
   ],
   "source": [
    "# filter out non-case-report articles\n",
    "casereports = casereports[casereports['articletype1']=='D002363|Case Reports']\n",
    "casereports = casereports[casereports['articletype2']!='D016454|Review']\n",
    "casereports.shape"
   ]
  },
  {
   "cell_type": "code",
   "execution_count": 145,
   "metadata": {},
   "outputs": [
    {
     "data": {
      "text/plain": [
       "(10934, 18)"
      ]
     },
     "execution_count": 145,
     "metadata": {},
     "output_type": "execute_result"
    }
   ],
   "source": [
    "# filter out any missing abstracts and titles\n",
    "casereports = casereports[[len(str(row['articletitle']))>10 for i,row in casereports.iterrows()]] \n",
    "casereports = casereports[[len(str(row['abstract']))>50 for i,row in casereports.iterrows()]] \n",
    "casereports.shape"
   ]
  },
  {
   "cell_type": "code",
   "execution_count": 146,
   "metadata": {
    "scrolled": true
   },
   "outputs": [],
   "source": [
    "# # Use this cell to explore articles with certain text in the title/abstract\n",
    "# # Think this shows that some literature reviews are being published in case-report journals without being labelled as such\n",
    "# for k, rw in casereports[[any(any(y in str(x).lower() and 'case' not in str(x).lower() for y in ['systematic review','literature review'])\n",
    "#                               for x in [row['articletitle']]) #,row['abstract']])\n",
    "#             for i,row in casereports.iterrows()]].iterrows():\n",
    "#     print(rw['doi'])\n",
    "#     print(rw['articletitle'])\n",
    "#     print(rw['abstract'])\n",
    "#     print()"
   ]
  },
  {
   "cell_type": "markdown",
   "metadata": {},
   "source": [
    "# create -ve class"
   ]
  },
  {
   "cell_type": "code",
   "execution_count": 147,
   "metadata": {},
   "outputs": [
    {
     "data": {
      "text/plain": [
       "(12027, 18)"
      ]
     },
     "execution_count": 147,
     "metadata": {},
     "output_type": "execute_result"
    }
   ],
   "source": [
    "# notice that I lose noncasereports at a faster rate due to filtering below\n",
    "# therefore adding 1.1* in order to account for that. We don't need to have balanced classes here\n",
    "# it would be better to have data that \n",
    "noncasereports = pubmed[~pubmed['journal_issn'].isin(set(cr_issns))].sample(int(1.1*casereports.shape[0]), random_state = 100)\n",
    "noncasereports.shape"
   ]
  },
  {
   "cell_type": "code",
   "execution_count": 148,
   "metadata": {},
   "outputs": [],
   "source": [
    "# text processing"
   ]
  },
  {
   "cell_type": "code",
   "execution_count": 149,
   "metadata": {},
   "outputs": [
    {
     "data": {
      "text/plain": [
       "((18368, 5), (2295, 5), (2298, 5))"
      ]
     },
     "execution_count": 149,
     "metadata": {},
     "output_type": "execute_result"
    }
   ],
   "source": [
    "casereports = casereports.sample(casereports.shape[0], random_state =7)\n",
    "noncasereports = noncasereports.sample(noncasereports.shape[0], random_state =7)\n",
    "casereports['tiabs'] = casereports['articletitle'] + '. ' + casereports['abstract']\n",
    "noncasereports['tiabs'] = noncasereports['articletitle'] + '. ' + noncasereports['abstract']\n",
    "casereports['casereport'] = 1\n",
    "noncasereports['casereport'] = 0\n",
    "\n",
    "\n",
    "index1 = int(0.8*casereports.shape[0])\n",
    "index2 = int(0.1*casereports.shape[0])\n",
    "\n",
    "training_case_reports = casereports.iloc[:index1]\n",
    "dev_case_reports = casereports.iloc[index1:index1+index2]\n",
    "test_case_reports = casereports.iloc[index1+index2:]\n",
    "\n",
    "index1 = int(0.8*noncasereports.shape[0])\n",
    "index2 = int(0.1*noncasereports.shape[0])\n",
    "\n",
    "training_non_case_reports = noncasereports.iloc[:index1]\n",
    "dev_non_case_reports = noncasereports.iloc[index1:index1+index2]\n",
    "test_non_case_reports = noncasereports.iloc[index1+index2:]\n",
    "\n",
    "\n",
    "train = pd.concat([training_non_case_reports, training_case_reports])\n",
    "dev = pd.concat([dev_non_case_reports, dev_case_reports])\n",
    "test = pd.concat([test_non_case_reports, test_case_reports])\n",
    "\n",
    "train = train[['doi','articletitle', 'abstract', 'tiabs','casereport']]\n",
    "dev = dev[['doi','articletitle', 'abstract', 'tiabs','casereport']]\n",
    "test = test[['doi','articletitle', 'abstract', 'tiabs','casereport']]\n",
    "\n",
    "\n",
    "train.shape, dev.shape, test.shape"
   ]
  },
  {
   "cell_type": "markdown",
   "metadata": {},
   "source": [
    "## cleaning and checking\n",
    "- remove na\n",
    "- remove duplicates"
   ]
  },
  {
   "cell_type": "code",
   "execution_count": 150,
   "metadata": {},
   "outputs": [
    {
     "data": {
      "text/plain": [
       "((16975, 5), (2166, 5), (2140, 5))"
      ]
     },
     "execution_count": 150,
     "metadata": {},
     "output_type": "execute_result"
    }
   ],
   "source": [
    "train = train.dropna()\n",
    "dev = dev.dropna()\n",
    "test = test.dropna()\n",
    "train.shape, test.shape, dev.shape"
   ]
  },
  {
   "cell_type": "code",
   "execution_count": 151,
   "metadata": {},
   "outputs": [
    {
     "data": {
      "text/plain": [
       "((16974, 5), (2166, 5), (2140, 5))"
      ]
     },
     "execution_count": 151,
     "metadata": {},
     "output_type": "execute_result"
    }
   ],
   "source": [
    "train = train.drop_duplicates(subset=['doi'])\n",
    "dev = dev.drop_duplicates(subset=['doi'])\n",
    "test = test.drop_duplicates(subset=['doi'])\n",
    "train.shape, test.shape, dev.shape"
   ]
  },
  {
   "cell_type": "markdown",
   "metadata": {},
   "source": [
    "## check"
   ]
  },
  {
   "cell_type": "code",
   "execution_count": 152,
   "metadata": {},
   "outputs": [
    {
     "data": {
      "text/plain": [
       "(1    8746\n",
       " 0    8228\n",
       " Name: casereport, dtype: int64,\n",
       " 1    1094\n",
       " 0    1072\n",
       " Name: casereport, dtype: int64,\n",
       " 1    1093\n",
       " 0    1047\n",
       " Name: casereport, dtype: int64)"
      ]
     },
     "execution_count": 152,
     "metadata": {},
     "output_type": "execute_result"
    }
   ],
   "source": [
    "train.casereport.value_counts(),test.casereport.value_counts(),dev.casereport.value_counts()"
   ]
  },
  {
   "cell_type": "code",
   "execution_count": 153,
   "metadata": {},
   "outputs": [],
   "source": [
    "train.to_csv(os.path.join(working_data_path, 'train.csv'), index = False)\n",
    "dev.to_csv(os.path.join(working_data_path, 'dev.csv'), index=False)\n",
    "test.to_csv(os.path.join(working_data_path, 'test.csv'), index=False)"
   ]
  },
  {
   "cell_type": "code",
   "execution_count": 154,
   "metadata": {},
   "outputs": [
    {
     "data": {
      "text/html": [
       "<div>\n",
       "<style scoped>\n",
       "    .dataframe tbody tr th:only-of-type {\n",
       "        vertical-align: middle;\n",
       "    }\n",
       "\n",
       "    .dataframe tbody tr th {\n",
       "        vertical-align: top;\n",
       "    }\n",
       "\n",
       "    .dataframe thead th {\n",
       "        text-align: right;\n",
       "    }\n",
       "</style>\n",
       "<table border=\"1\" class=\"dataframe\">\n",
       "  <thead>\n",
       "    <tr style=\"text-align: right;\">\n",
       "      <th></th>\n",
       "      <th>doi</th>\n",
       "      <th>articletitle</th>\n",
       "      <th>abstract</th>\n",
       "      <th>tiabs</th>\n",
       "      <th>casereport</th>\n",
       "    </tr>\n",
       "  </thead>\n",
       "  <tbody>\n",
       "    <tr>\n",
       "      <th>516856</th>\n",
       "      <td>10.1007/s10388-020-00767-0</td>\n",
       "      <td>Preoperative computed tomography predicts the ...</td>\n",
       "      <td>Recurrent laryngeal nerve paralysis (RLNP) aft...</td>\n",
       "      <td>Preoperative computed tomography predicts the ...</td>\n",
       "      <td>0</td>\n",
       "    </tr>\n",
       "    <tr>\n",
       "      <th>1847544</th>\n",
       "      <td>10.1167/19.7.2</td>\n",
       "      <td>Dynamic combination of position and motion inf...</td>\n",
       "      <td>To accurately foveate a moving target, the ocu...</td>\n",
       "      <td>Dynamic combination of position and motion inf...</td>\n",
       "      <td>0</td>\n",
       "    </tr>\n",
       "    <tr>\n",
       "      <th>1616444</th>\n",
       "      <td>10.1111/papr.12837</td>\n",
       "      <td>Opiate Intoxication Caused by Epidural Infusio...</td>\n",
       "      <td>Epidural infusion of local anesthetics with op...</td>\n",
       "      <td>Opiate Intoxication Caused by Epidural Infusio...</td>\n",
       "      <td>0</td>\n",
       "    </tr>\n",
       "    <tr>\n",
       "      <th>2920682</th>\n",
       "      <td>10.1016/j.prp.2018.05.007</td>\n",
       "      <td>Extraneuraxial hemangioblastoma: A clinicopath...</td>\n",
       "      <td>Less than 250 extraneuraxial hemangioblastomas...</td>\n",
       "      <td>Extraneuraxial hemangioblastoma: A clinicopath...</td>\n",
       "      <td>0</td>\n",
       "    </tr>\n",
       "    <tr>\n",
       "      <th>1830535</th>\n",
       "      <td>10.3390/jcm8070957</td>\n",
       "      <td>Glycyrrhizin Protects the Diabetic Retina agai...</td>\n",
       "      <td>Damage associated molecular pattern (DAMPs), s...</td>\n",
       "      <td>Glycyrrhizin Protects the Diabetic Retina agai...</td>\n",
       "      <td>0</td>\n",
       "    </tr>\n",
       "  </tbody>\n",
       "</table>\n",
       "</div>"
      ],
      "text/plain": [
       "                                doi  \\\n",
       "516856   10.1007/s10388-020-00767-0   \n",
       "1847544              10.1167/19.7.2   \n",
       "1616444          10.1111/papr.12837   \n",
       "2920682   10.1016/j.prp.2018.05.007   \n",
       "1830535          10.3390/jcm8070957   \n",
       "\n",
       "                                              articletitle  \\\n",
       "516856   Preoperative computed tomography predicts the ...   \n",
       "1847544  Dynamic combination of position and motion inf...   \n",
       "1616444  Opiate Intoxication Caused by Epidural Infusio...   \n",
       "2920682  Extraneuraxial hemangioblastoma: A clinicopath...   \n",
       "1830535  Glycyrrhizin Protects the Diabetic Retina agai...   \n",
       "\n",
       "                                                  abstract  \\\n",
       "516856   Recurrent laryngeal nerve paralysis (RLNP) aft...   \n",
       "1847544  To accurately foveate a moving target, the ocu...   \n",
       "1616444  Epidural infusion of local anesthetics with op...   \n",
       "2920682  Less than 250 extraneuraxial hemangioblastomas...   \n",
       "1830535  Damage associated molecular pattern (DAMPs), s...   \n",
       "\n",
       "                                                     tiabs  casereport  \n",
       "516856   Preoperative computed tomography predicts the ...           0  \n",
       "1847544  Dynamic combination of position and motion inf...           0  \n",
       "1616444  Opiate Intoxication Caused by Epidural Infusio...           0  \n",
       "2920682  Extraneuraxial hemangioblastoma: A clinicopath...           0  \n",
       "1830535  Glycyrrhizin Protects the Diabetic Retina agai...           0  "
      ]
     },
     "execution_count": 154,
     "metadata": {},
     "output_type": "execute_result"
    }
   ],
   "source": [
    "train.head()"
   ]
  },
  {
   "cell_type": "code",
   "execution_count": 155,
   "metadata": {},
   "outputs": [
    {
     "data": {
      "text/html": [
       "<div>\n",
       "<style scoped>\n",
       "    .dataframe tbody tr th:only-of-type {\n",
       "        vertical-align: middle;\n",
       "    }\n",
       "\n",
       "    .dataframe tbody tr th {\n",
       "        vertical-align: top;\n",
       "    }\n",
       "\n",
       "    .dataframe thead th {\n",
       "        text-align: right;\n",
       "    }\n",
       "</style>\n",
       "<table border=\"1\" class=\"dataframe\">\n",
       "  <thead>\n",
       "    <tr style=\"text-align: right;\">\n",
       "      <th></th>\n",
       "      <th>doi</th>\n",
       "      <th>articletitle</th>\n",
       "      <th>abstract</th>\n",
       "      <th>tiabs</th>\n",
       "      <th>casereport</th>\n",
       "    </tr>\n",
       "  </thead>\n",
       "  <tbody>\n",
       "    <tr>\n",
       "      <th>1761346</th>\n",
       "      <td>10.1021/acs.jpcb.9b04746</td>\n",
       "      <td>Characterization of Protein-Facilitated Ion-Tr...</td>\n",
       "      <td>Protein electrochemistry studies at a polarize...</td>\n",
       "      <td>Characterization of Protein-Facilitated Ion-Tr...</td>\n",
       "      <td>0</td>\n",
       "    </tr>\n",
       "    <tr>\n",
       "      <th>891530</th>\n",
       "      <td>10.2215/CJN.15611219</td>\n",
       "      <td>AKI!Now Initiative: Recommendations for Awaren...</td>\n",
       "      <td>The American Society of Nephrology has establi...</td>\n",
       "      <td>AKI!Now Initiative: Recommendations for Awaren...</td>\n",
       "      <td>0</td>\n",
       "    </tr>\n",
       "    <tr>\n",
       "      <th>2170107</th>\n",
       "      <td>10.1097/MD.0000000000014447</td>\n",
       "      <td>The role of robotic gait training and tDCS in ...</td>\n",
       "      <td>Friedrich ataxia (FA) is the most common inher...</td>\n",
       "      <td>The role of robotic gait training and tDCS in ...</td>\n",
       "      <td>0</td>\n",
       "    </tr>\n",
       "    <tr>\n",
       "      <th>1889123</th>\n",
       "      <td>10.1016/j.jvoice.2019.04.017</td>\n",
       "      <td>Granular Cell Tumors of the Larynx: A Clinicop...</td>\n",
       "      <td>Granular cell tumors (GCT) are uncommon neopla...</td>\n",
       "      <td>Granular Cell Tumors of the Larynx: A Clinicop...</td>\n",
       "      <td>0</td>\n",
       "    </tr>\n",
       "    <tr>\n",
       "      <th>1449242</th>\n",
       "      <td>10.5588/ijtld.18.0382</td>\n",
       "      <td>Relationship between smoking and spontaneously...</td>\n",
       "      <td>SETTING: The Korea National Health and Nutriti...</td>\n",
       "      <td>Relationship between smoking and spontaneously...</td>\n",
       "      <td>0</td>\n",
       "    </tr>\n",
       "  </tbody>\n",
       "</table>\n",
       "</div>"
      ],
      "text/plain": [
       "                                  doi  \\\n",
       "1761346      10.1021/acs.jpcb.9b04746   \n",
       "891530           10.2215/CJN.15611219   \n",
       "2170107   10.1097/MD.0000000000014447   \n",
       "1889123  10.1016/j.jvoice.2019.04.017   \n",
       "1449242         10.5588/ijtld.18.0382   \n",
       "\n",
       "                                              articletitle  \\\n",
       "1761346  Characterization of Protein-Facilitated Ion-Tr...   \n",
       "891530   AKI!Now Initiative: Recommendations for Awaren...   \n",
       "2170107  The role of robotic gait training and tDCS in ...   \n",
       "1889123  Granular Cell Tumors of the Larynx: A Clinicop...   \n",
       "1449242  Relationship between smoking and spontaneously...   \n",
       "\n",
       "                                                  abstract  \\\n",
       "1761346  Protein electrochemistry studies at a polarize...   \n",
       "891530   The American Society of Nephrology has establi...   \n",
       "2170107  Friedrich ataxia (FA) is the most common inher...   \n",
       "1889123  Granular cell tumors (GCT) are uncommon neopla...   \n",
       "1449242  SETTING: The Korea National Health and Nutriti...   \n",
       "\n",
       "                                                     tiabs  casereport  \n",
       "1761346  Characterization of Protein-Facilitated Ion-Tr...           0  \n",
       "891530   AKI!Now Initiative: Recommendations for Awaren...           0  \n",
       "2170107  The role of robotic gait training and tDCS in ...           0  \n",
       "1889123  Granular Cell Tumors of the Larynx: A Clinicop...           0  \n",
       "1449242  Relationship between smoking and spontaneously...           0  "
      ]
     },
     "execution_count": 155,
     "metadata": {},
     "output_type": "execute_result"
    }
   ],
   "source": [
    "dev.head()"
   ]
  },
  {
   "cell_type": "code",
   "execution_count": 156,
   "metadata": {},
   "outputs": [
    {
     "data": {
      "text/plain": [
       "('Characterization of Protein-Facilitated Ion-Transfer Mechanism at a Polarized Aqueous/Organic Interface.. Protein electrochemistry studies at a polarized interface between two immiscible electrolyte solutions (ITIES) indicate that the detection mechanism of a protein at the interface involves a combination of protein-anion complexation and interfacial adsorption processes. A detailed characterization of the protein-facilitated mechanism of ion transfer at the ITIES will allow the development of new label-free biomolecular detection tools. Molecular dynamics simulations were performed to describe the mechanism of transfer of the hydrophobic anion tetraphenylborate (TPB-) from a 1,2-dichloroethane (organic) phase to an aqueous phase mediated by lysozyme as a model protein under the action of an external electric field. The anion migrated to the protein at the interface and formed multiple contacts. The side chains of positively charged Lys and Arg residues formed electrostatic interactions with the anion. Nonpolar residues like Trp, Met, and Val formed hydrophobic contacts with the anion as it moved along the protein surface. During this process, lysozyme adopted multiple, partially unfolded conformations at the interface, all involving various anion-protein complexes with small free-energy barriers between them. The general mechanism of protein-facilitated ion transfer at a polarized liquid-liquid interface thus likely involves the movement of a hydrophobic anion along the protein surface through a combination of electrostatic and hydrophobic interactions.',\n",
       " 'Characterization of Protein-Facilitated Ion-Transfer Mechanism at a Polarized Aqueous/Organic Interface.. Protein electrochemistry studies at a polarized interface between two immiscible electrolyte solutions (ITIES) indicate that the detection mechanism of a protein at the interface involves a combination of protein-anion complexation and interfacial adsorption processes. A detailed characterization of the protein-facilitated mechanism of ion transfer at the ITIES will allow the development of new label-free biomolecular detection tools. Molecular dynamics simulations were performed to describe the mechanism of transfer of the hydrophobic anion tetraphenylborate (TPB-) from a 1,2-dichloroethane (organic) phase to an aqueous phase mediated by lysozyme as a model protein under the action of an external electric field. The anion migrated to the protein at the interface and formed multiple contacts. The side chains of positively charged Lys and Arg residues formed electrostatic interactions with the anion. Nonpolar residues like Trp, Met, and Val formed hydrophobic contacts with the anion as it moved along the protein surface. During this process, lysozyme adopted multiple, partially unfolded conformations at the interface, all involving various anion-protein complexes with small free-energy barriers between them. The general mechanism of protein-facilitated ion transfer at a polarized liquid-liquid interface thus likely involves the movement of a hydrophobic anion along the protein surface through a combination of electrostatic and hydrophobic interactions.')"
      ]
     },
     "execution_count": 156,
     "metadata": {},
     "output_type": "execute_result"
    }
   ],
   "source": [
    "from tools import pre_s\n",
    "s = dev['tiabs'].tolist()[0]\n",
    "s, pre_s(s)\n"
   ]
  },
  {
   "cell_type": "code",
   "execution_count": null,
   "metadata": {},
   "outputs": [],
   "source": []
  }
 ],
 "metadata": {
  "kernelspec": {
   "display_name": "Python 3",
   "language": "python",
   "name": "python3"
  },
  "language_info": {
   "codemirror_mode": {
    "name": "ipython",
    "version": 3
   },
   "file_extension": ".py",
   "mimetype": "text/x-python",
   "name": "python",
   "nbconvert_exporter": "python",
   "pygments_lexer": "ipython3",
   "version": "3.8.3"
  }
 },
 "nbformat": 4,
 "nbformat_minor": 4
}
