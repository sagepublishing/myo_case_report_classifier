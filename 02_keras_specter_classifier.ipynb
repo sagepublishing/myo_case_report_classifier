{
 "cells": [
  {
   "cell_type": "markdown",
   "metadata": {},
   "source": [
    "## Build classifier\n",
    "Here we will build a simple NN classifier. The amount of data is quite small, so this won't require a GPU. \n",
    "\n",
    "It's always worth checking any model against a simple baseline. In this case, we find that the baseline model performs just as well as the deep-learning classifier. This might change if we can get better training data, but for the purposes of this project, you could use either one."
   ]
  },
  {
   "cell_type": "code",
   "execution_count": 54,
   "metadata": {},
   "outputs": [],
   "source": [
    "import pandas as pd\n",
    "import numpy as np\n",
    "import pickle\n",
    "import tensorflow as tf\n",
    "from tensorflow.keras.preprocessing.text import Tokenizer\n",
    "from tensorflow.keras.models import Sequential\n",
    "from tensorflow.keras.layers import Activation, Dense, Dropout\n",
    "from sklearn.preprocessing import LabelBinarizer\n",
    "import sklearn.datasets as skds\n",
    "from pathlib import Path"
   ]
  },
  {
   "cell_type": "code",
   "execution_count": 55,
   "metadata": {},
   "outputs": [],
   "source": [
    "import os\n",
    "import json"
   ]
  },
  {
   "cell_type": "code",
   "execution_count": 41,
   "metadata": {},
   "outputs": [],
   "source": [
    "data_dir = os.path.abspath(r'C:\\Users\\aday\\OneDrive - SAGE Publishing\\PROJECT_DATA\\pubmed_case_report_classifier\\data')\n",
    "test_data_loc = os.path.join(data_dir,'test embeddings.json')\n",
    "dev_data_loc = os.path.join(data_dir,'dev embeddings.json')\n",
    "train_data_loc = os.path.join(data_dir,'train embeddings.json')"
   ]
  },
  {
   "cell_type": "code",
   "execution_count": 41,
   "metadata": {},
   "outputs": [
    {
     "data": {
      "text/plain": [
       "((16974, 5), (2166, 5), (2140, 5))"
      ]
     },
     "execution_count": 41,
     "metadata": {},
     "output_type": "execute_result"
    }
   ],
   "source": [
    "test = pd.read_csv(os.path.join(data_dir,'test.csv'), dtype=str)\n",
    "train = pd.read_csv(os.path.join(data_dir,'train.csv'), dtype=str)\n",
    "dev = pd.read_csv(os.path.join(data_dir,'dev.csv'), dtype=str)\n",
    "train.shape, test.shape, dev.shape"
   ]
  },
  {
   "cell_type": "code",
   "execution_count": 42,
   "metadata": {},
   "outputs": [
    {
     "data": {
      "text/plain": [
       "(16974, 2166, 2140)"
      ]
     },
     "execution_count": 42,
     "metadata": {},
     "output_type": "execute_result"
    }
   ],
   "source": [
    "with open(test_data_loc,'r') as f:\n",
    "    test_embeddings = json.load(f)\n",
    "with open(train_data_loc,'r') as f:\n",
    "    train_embeddings  = json.load(f)\n",
    "with open(dev_data_loc,'r') as f:\n",
    "    dev_embeddings  = json.load(f)\n",
    "len(train_embeddings), len(test_embeddings), len(dev_embeddings)"
   ]
  },
  {
   "cell_type": "markdown",
   "metadata": {},
   "source": [
    "## We have some embedings missing, so lets ensure that we filter those out"
   ]
  },
  {
   "cell_type": "code",
   "execution_count": 59,
   "metadata": {},
   "outputs": [],
   "source": [
    "train = train.drop_duplicates(subset=['doi'], keep = 'first')\n",
    "test = test.drop_duplicates(subset=['doi'], keep = 'first')\n",
    "dev = dev.drop_duplicates(subset=['doi'], keep = 'first')"
   ]
  },
  {
   "cell_type": "code",
   "execution_count": 60,
   "metadata": {},
   "outputs": [
    {
     "data": {
      "text/plain": [
       "((16974, 5), (2166, 5), (2140, 5))"
      ]
     },
     "execution_count": 60,
     "metadata": {},
     "output_type": "execute_result"
    }
   ],
   "source": [
    "dev = dev[dev['doi'].isin(dev_embeddings)]\n",
    "test = test[test['doi'].isin(test_embeddings)]\n",
    "train = train[train['doi'].isin(train_embeddings)]\n",
    "train.shape, test.shape, dev.shape"
   ]
  },
  {
   "cell_type": "markdown",
   "metadata": {},
   "source": [
    "These assertion statements will break our code if the number of embeddings we have differs from the number of rows of data. "
   ]
  },
  {
   "cell_type": "code",
   "execution_count": 61,
   "metadata": {},
   "outputs": [],
   "source": [
    "assert train.shape[0] == len(train_embeddings)\n",
    "assert dev.shape[0] == len(dev_embeddings)\n",
    "assert test.shape[0] == len(test_embeddings)"
   ]
  },
  {
   "cell_type": "markdown",
   "metadata": {},
   "source": [
    "## combine train and dev sets"
   ]
  },
  {
   "cell_type": "code",
   "execution_count": 62,
   "metadata": {},
   "outputs": [
    {
     "data": {
      "text/html": [
       "<div>\n",
       "<style scoped>\n",
       "    .dataframe tbody tr th:only-of-type {\n",
       "        vertical-align: middle;\n",
       "    }\n",
       "\n",
       "    .dataframe tbody tr th {\n",
       "        vertical-align: top;\n",
       "    }\n",
       "\n",
       "    .dataframe thead th {\n",
       "        text-align: right;\n",
       "    }\n",
       "</style>\n",
       "<table border=\"1\" class=\"dataframe\">\n",
       "  <thead>\n",
       "    <tr style=\"text-align: right;\">\n",
       "      <th></th>\n",
       "      <th>doi</th>\n",
       "      <th>articletitle</th>\n",
       "      <th>abstract</th>\n",
       "      <th>tiabs</th>\n",
       "      <th>casereport</th>\n",
       "    </tr>\n",
       "  </thead>\n",
       "  <tbody>\n",
       "    <tr>\n",
       "      <th>0</th>\n",
       "      <td>10.1007/s10388-020-00767-0</td>\n",
       "      <td>Preoperative computed tomography predicts the ...</td>\n",
       "      <td>Recurrent laryngeal nerve paralysis (RLNP) aft...</td>\n",
       "      <td>Preoperative computed tomography predicts the ...</td>\n",
       "      <td>0</td>\n",
       "    </tr>\n",
       "    <tr>\n",
       "      <th>1</th>\n",
       "      <td>10.1167/19.7.2</td>\n",
       "      <td>Dynamic combination of position and motion inf...</td>\n",
       "      <td>To accurately foveate a moving target, the ocu...</td>\n",
       "      <td>Dynamic combination of position and motion inf...</td>\n",
       "      <td>0</td>\n",
       "    </tr>\n",
       "  </tbody>\n",
       "</table>\n",
       "</div>"
      ],
      "text/plain": [
       "                          doi  \\\n",
       "0  10.1007/s10388-020-00767-0   \n",
       "1              10.1167/19.7.2   \n",
       "\n",
       "                                        articletitle  \\\n",
       "0  Preoperative computed tomography predicts the ...   \n",
       "1  Dynamic combination of position and motion inf...   \n",
       "\n",
       "                                            abstract  \\\n",
       "0  Recurrent laryngeal nerve paralysis (RLNP) aft...   \n",
       "1  To accurately foveate a moving target, the ocu...   \n",
       "\n",
       "                                               tiabs casereport  \n",
       "0  Preoperative computed tomography predicts the ...          0  \n",
       "1  Dynamic combination of position and motion inf...          0  "
      ]
     },
     "execution_count": 62,
     "metadata": {},
     "output_type": "execute_result"
    }
   ],
   "source": [
    "train.head(2)"
   ]
  },
  {
   "cell_type": "code",
   "execution_count": 63,
   "metadata": {},
   "outputs": [
    {
     "data": {
      "text/plain": [
       "((16974,), (16974, 768), (2140,), (2140, 768))"
      ]
     },
     "execution_count": 63,
     "metadata": {},
     "output_type": "execute_result"
    }
   ],
   "source": [
    "import numpy as np\n",
    "y_train = np.array([float(x) for x in train['casereport'].values]).T\n",
    "x_train = np.array([train_embeddings[doi] for doi in train.doi.tolist()])\n",
    "y_dev = np.array([float(x) for x in dev['casereport'].values]).T\n",
    "x_dev = np.array([dev_embeddings[doi] for doi in dev.doi.tolist()])\n",
    "np.shape(y_train), np.shape(x_train),np.shape(y_dev), np.shape(x_dev)"
   ]
  },
  {
   "cell_type": "code",
   "execution_count": 64,
   "metadata": {},
   "outputs": [
    {
     "data": {
      "text/plain": [
       "((2166,), (2166, 768))"
      ]
     },
     "execution_count": 64,
     "metadata": {},
     "output_type": "execute_result"
    }
   ],
   "source": [
    "y_test = np.array([float(x) for x in test['casereport'].values]).T\n",
    "x_test = np.array([test_embeddings[doi] for doi in test.doi.tolist()])\n",
    "np.shape(y_test), np.shape(x_test)"
   ]
  },
  {
   "cell_type": "markdown",
   "metadata": {},
   "source": [
    "## Start with a simple model to act as a baseline\n",
    "- this is what we want to beat\n",
    "- Turns out that we get very good results from SVC without doing any parameter tuning. "
   ]
  },
  {
   "cell_type": "code",
   "execution_count": 65,
   "metadata": {},
   "outputs": [
    {
     "name": "stdout",
     "output_type": "stream",
     "text": [
      "Wall time: 21.9 s\n"
     ]
    },
    {
     "data": {
      "text/plain": [
       "0.9635272391505079"
      ]
     },
     "execution_count": 65,
     "metadata": {},
     "output_type": "execute_result"
    }
   ],
   "source": [
    "%%time\n",
    "from sklearn.svm import SVC\n",
    "clf = SVC()\n",
    "clf.fit(x_train,y_train)\n",
    "clf.score(x_test,y_test)"
   ]
  },
  {
   "cell_type": "code",
   "execution_count": 66,
   "metadata": {},
   "outputs": [
    {
     "name": "stdout",
     "output_type": "stream",
     "text": [
      "Wall time: 1min 3s\n"
     ]
    },
    {
     "data": {
      "text/plain": [
       "0.9427516158818098"
      ]
     },
     "execution_count": 66,
     "metadata": {},
     "output_type": "execute_result"
    }
   ],
   "source": [
    "# %%time\n",
    "# from sklearn.ensemble import RandomForestClassifier\n",
    "# clf2 = RandomForestClassifier()\n",
    "# clf2.fit(x_train,y_train)\n",
    "# clf2.score(x_test,y_test)"
   ]
  },
  {
   "cell_type": "code",
   "execution_count": 67,
   "metadata": {},
   "outputs": [
    {
     "name": "stderr",
     "output_type": "stream",
     "text": [
      "C:\\Users\\aday\\Anaconda3\\envs\\tfpy37\\lib\\site-packages\\xgboost\\sklearn.py:888: UserWarning: The use of label encoder in XGBClassifier is deprecated and will be removed in a future release. To remove this warning, do the following: 1) Pass option use_label_encoder=False when constructing XGBClassifier object; and 2) Encode your labels (y) as integers starting with 0, i.e. 0, 1, 2, ..., [num_class - 1].\n",
      "  warnings.warn(label_encoder_deprecation_msg, UserWarning)\n"
     ]
    },
    {
     "name": "stdout",
     "output_type": "stream",
     "text": [
      "[14:30:24] WARNING: C:/Users/Administrator/workspace/xgboost-win64_release_1.3.0/src/learner.cc:1061: Starting in XGBoost 1.3.0, the default evaluation metric used with the objective 'binary:logistic' was changed from 'error' to 'logloss'. Explicitly set eval_metric if you'd like to restore the old behavior.\n"
     ]
    },
    {
     "data": {
      "text/plain": [
       "0.9533702677746999"
      ]
     },
     "execution_count": 67,
     "metadata": {},
     "output_type": "execute_result"
    }
   ],
   "source": [
    "# # import xgboost as xgb\n",
    "# from xgboost import XGBClassifier\n",
    "# clf3 = XGBClassifier()\n",
    "# clf3.fit(x_train,y_train)\n",
    "# clf3.score(x_test,y_test)"
   ]
  },
  {
   "cell_type": "markdown",
   "metadata": {},
   "source": [
    "## Now create a Keras classifier"
   ]
  },
  {
   "cell_type": "markdown",
   "metadata": {},
   "source": [
    "see: https://www.opencodez.com/how-to-guide/text-classification-using-keras.htm"
   ]
  },
  {
   "cell_type": "markdown",
   "metadata": {},
   "source": [
    "Good accuracy with quite a shallow model. Seems probable that most of what we are detecting here is subject-area differences and NOT caserep status. "
   ]
  },
  {
   "cell_type": "code",
   "execution_count": 87,
   "metadata": {},
   "outputs": [
    {
     "name": "stdout",
     "output_type": "stream",
     "text": [
      "Model: \"sequential_6\"\n",
      "_________________________________________________________________\n",
      "Layer (type)                 Output Shape              Param #   \n",
      "=================================================================\n",
      "dense_20 (Dense)             (None, 16)                12304     \n",
      "_________________________________________________________________\n",
      "activation_20 (Activation)   (None, 16)                0         \n",
      "_________________________________________________________________\n",
      "dropout_14 (Dropout)         (None, 16)                0         \n",
      "_________________________________________________________________\n",
      "dense_21 (Dense)             (None, 8)                 136       \n",
      "_________________________________________________________________\n",
      "activation_21 (Activation)   (None, 8)                 0         \n",
      "_________________________________________________________________\n",
      "dropout_15 (Dropout)         (None, 8)                 0         \n",
      "_________________________________________________________________\n",
      "dense_22 (Dense)             (None, 1)                 9         \n",
      "_________________________________________________________________\n",
      "activation_22 (Activation)   (None, 1)                 0         \n",
      "=================================================================\n",
      "Total params: 12,449\n",
      "Trainable params: 12,449\n",
      "Non-trainable params: 0\n",
      "_________________________________________________________________\n"
     ]
    }
   ],
   "source": [
    "batch_size = 8\n",
    "model = Sequential()\n",
    "\n",
    "model.add(Dense(16, input_shape=(768,)))\n",
    "model.add(Activation('relu'))\n",
    "model.add(Dropout(0.25))\n",
    "\n",
    "model.add(Dense(8))\n",
    "model.add(Activation('relu'))\n",
    "model.add(Dropout(0.25))\n",
    "\n",
    "# this layer didn't make a big difference. Commenting out. \n",
    "# model.add(Dense(4))\n",
    "# model.add(Activation('relu'))\n",
    "# model.add(Dropout(0.25))\n",
    "\n",
    "model.add(Dense(1))\n",
    "model.add(Activation('sigmoid'))\n",
    "\n",
    "model.build()\n",
    "model.summary()\n",
    " \n",
    "model.compile(loss='binary_crossentropy',\n",
    "              optimizer='adam',\n",
    "              metrics=['accuracy'])\n",
    " "
   ]
  },
  {
   "cell_type": "code",
   "execution_count": 88,
   "metadata": {},
   "outputs": [
    {
     "name": "stdout",
     "output_type": "stream",
     "text": [
      "Epoch 1/10\n",
      "2122/2122 [==============================] - 3s 1ms/step - loss: 0.3500 - accuracy: 0.8540 - val_loss: 0.1501 - val_accuracy: 0.9523\n",
      "Epoch 2/10\n",
      "2122/2122 [==============================] - 2s 1ms/step - loss: 0.1848 - accuracy: 0.9438 - val_loss: 0.1452 - val_accuracy: 0.9519\n",
      "Epoch 3/10\n",
      "2122/2122 [==============================] - 2s 1ms/step - loss: 0.1871 - accuracy: 0.9446 - val_loss: 0.1427 - val_accuracy: 0.9579\n",
      "Epoch 4/10\n",
      "2122/2122 [==============================] - 2s 1ms/step - loss: 0.1704 - accuracy: 0.9488 - val_loss: 0.1383 - val_accuracy: 0.9593\n",
      "Epoch 5/10\n",
      "2122/2122 [==============================] - 2s 1ms/step - loss: 0.1795 - accuracy: 0.9459 - val_loss: 0.1350 - val_accuracy: 0.9621\n",
      "Epoch 6/10\n",
      "2122/2122 [==============================] - 2s 1ms/step - loss: 0.1678 - accuracy: 0.9496 - val_loss: 0.1351 - val_accuracy: 0.9607\n",
      "Epoch 7/10\n",
      "2122/2122 [==============================] - 2s 1ms/step - loss: 0.1703 - accuracy: 0.9477 - val_loss: 0.1335 - val_accuracy: 0.9631\n",
      "Epoch 8/10\n",
      "2122/2122 [==============================] - 2s 991us/step - loss: 0.1614 - accuracy: 0.9515 - val_loss: 0.1320 - val_accuracy: 0.9621\n",
      "Epoch 9/10\n",
      "2122/2122 [==============================] - 2s 1ms/step - loss: 0.1537 - accuracy: 0.9566 - val_loss: 0.1342 - val_accuracy: 0.9603\n",
      "Epoch 10/10\n",
      "2122/2122 [==============================] - 2s 995us/step - loss: 0.1628 - accuracy: 0.9519 - val_loss: 0.1307 - val_accuracy: 0.9617\n",
      "Wall time: 22.8 s\n"
     ]
    }
   ],
   "source": [
    "%%time\n",
    "history = model.fit(x_train, \n",
    "                    y_train,\n",
    "                    validation_data=(x_dev, y_dev),\n",
    "                    batch_size=batch_size,\n",
    "                    epochs=6, \n",
    "                    verbose=1,                  \n",
    "                   )"
   ]
  },
  {
   "cell_type": "markdown",
   "metadata": {},
   "source": [
    "## Testing"
   ]
  },
  {
   "cell_type": "code",
   "execution_count": 89,
   "metadata": {},
   "outputs": [
    {
     "name": "stdout",
     "output_type": "stream",
     "text": [
      "271/271 [==============================] - 0s 630us/step - loss: 0.1268 - accuracy: 0.9631\n",
      "Test accuracy: 0.9630655646324158\n"
     ]
    }
   ],
   "source": [
    "score = model.evaluate(x_test, \n",
    "                       y_test,\n",
    "                       batch_size=batch_size, \n",
    "                       verbose=1)\n",
    "\n",
    "print('Test accuracy:', score[1])"
   ]
  },
  {
   "cell_type": "code",
   "execution_count": 71,
   "metadata": {},
   "outputs": [],
   "source": [
    "model.save('case_report_classifier.h5')"
   ]
  },
  {
   "cell_type": "markdown",
   "metadata": {},
   "source": [
    "# Now compare baseline with new model"
   ]
  },
  {
   "cell_type": "code",
   "execution_count": 72,
   "metadata": {},
   "outputs": [
    {
     "data": {
      "text/html": [
       "<div>\n",
       "<style scoped>\n",
       "    .dataframe tbody tr th:only-of-type {\n",
       "        vertical-align: middle;\n",
       "    }\n",
       "\n",
       "    .dataframe tbody tr th {\n",
       "        vertical-align: top;\n",
       "    }\n",
       "\n",
       "    .dataframe thead th {\n",
       "        text-align: right;\n",
       "    }\n",
       "</style>\n",
       "<table border=\"1\" class=\"dataframe\">\n",
       "  <thead>\n",
       "    <tr style=\"text-align: right;\">\n",
       "      <th></th>\n",
       "      <th>doi</th>\n",
       "      <th>articletitle</th>\n",
       "      <th>abstract</th>\n",
       "      <th>tiabs</th>\n",
       "      <th>casereport</th>\n",
       "      <th>svc_pred</th>\n",
       "      <th>xgb_pred</th>\n",
       "      <th>keras_pred</th>\n",
       "      <th>ensemble</th>\n",
       "    </tr>\n",
       "  </thead>\n",
       "  <tbody>\n",
       "    <tr>\n",
       "      <th>0</th>\n",
       "      <td>10.1016/j.celrep.2018.06.048</td>\n",
       "      <td>A Virally Encoded DeSUMOylase Activity Is Requ...</td>\n",
       "      <td>A subset of viral genes is required for the lo...</td>\n",
       "      <td>A Virally Encoded DeSUMOylase Activity Is Requ...</td>\n",
       "      <td>0</td>\n",
       "      <td>0.0</td>\n",
       "      <td>0.0</td>\n",
       "      <td>0</td>\n",
       "      <td>0</td>\n",
       "    </tr>\n",
       "    <tr>\n",
       "      <th>1</th>\n",
       "      <td>10.3390/ijerph17239087</td>\n",
       "      <td>Is It Possible to Find Something Positive in B...</td>\n",
       "      <td>In relation to COVID-19, little research has f...</td>\n",
       "      <td>Is It Possible to Find Something Positive in B...</td>\n",
       "      <td>0</td>\n",
       "      <td>0.0</td>\n",
       "      <td>0.0</td>\n",
       "      <td>0</td>\n",
       "      <td>0</td>\n",
       "    </tr>\n",
       "  </tbody>\n",
       "</table>\n",
       "</div>"
      ],
      "text/plain": [
       "                            doi  \\\n",
       "0  10.1016/j.celrep.2018.06.048   \n",
       "1        10.3390/ijerph17239087   \n",
       "\n",
       "                                        articletitle  \\\n",
       "0  A Virally Encoded DeSUMOylase Activity Is Requ...   \n",
       "1  Is It Possible to Find Something Positive in B...   \n",
       "\n",
       "                                            abstract  \\\n",
       "0  A subset of viral genes is required for the lo...   \n",
       "1  In relation to COVID-19, little research has f...   \n",
       "\n",
       "                                               tiabs  casereport  svc_pred  \\\n",
       "0  A Virally Encoded DeSUMOylase Activity Is Requ...           0       0.0   \n",
       "1  Is It Possible to Find Something Positive in B...           0       0.0   \n",
       "\n",
       "   xgb_pred  keras_pred  ensemble  \n",
       "0       0.0           0         0  \n",
       "1       0.0           0         0  "
      ]
     },
     "execution_count": 72,
     "metadata": {},
     "output_type": "execute_result"
    }
   ],
   "source": [
    "test['svc_pred'] =clf.predict(x_test)\n",
    "test['xgb_pred'] =clf3.predict(x_test)\n",
    "test['keras_pred'] = [0 if x<0.5 else 1 for x in model.predict(x_test)]\n",
    "# crude voting ensemble\n",
    "test['ensemble'] = [0 if np.mean([row['svc_pred'],row['keras_pred'],row['xgb_pred']]) <0.5 else 1  for i,row in test.iterrows()]\n",
    "test['casereport'] = pd.to_numeric(test['casereport'])\n",
    "test.head(2)"
   ]
  },
  {
   "cell_type": "code",
   "execution_count": 73,
   "metadata": {},
   "outputs": [
    {
     "data": {
      "text/plain": [
       "0.9621421975992613"
      ]
     },
     "execution_count": 73,
     "metadata": {},
     "output_type": "execute_result"
    }
   ],
   "source": [
    "from sklearn.metrics import accuracy_score\n",
    "accuracy_score(test['casereport'], test['ensemble'])"
   ]
  },
  {
   "cell_type": "code",
   "execution_count": 74,
   "metadata": {
    "collapsed": true,
    "jupyter": {
     "outputs_hidden": true
    }
   },
   "outputs": [
    {
     "name": "stdout",
     "output_type": "stream",
     "text": [
      "10.1080/17843286.2018.1531616\n",
      "Approach to and management of abnormalities in plasma sodium.\n",
      "The differential diagnosis between hypertonic, isotonic and hypotonic hyponatremia are presented. The help of some usual serum (urea, uric acid and TCO2) and urine parameters (mainly osmolality and sodium concentration) are discussed and help to determine the best treatment. Morbidity associated with untreated hyponatremia and with the different treatment available is also discussed. Who to prevent and treat ODS (osmotic demyelating syndrome) is recalled. The pathophysiology and treatment of hypernatremia are also discussed.\n",
      "\n",
      "10.1002/jca.21553\n",
      "Successful treatment of pure red cell aplasia because of ABO major mismatched stem cell transplant.\n",
      "Pure red cell aplasia (PRCA) is a well-documented potential side effect of ABO major mismatched allogeneic hematopoietic stem cell transplants. This side effect may be self-limiting, but is sometimes treated using modalities such as steroids, antithymocyte globulin, donor lymphocyte infusions, rituximab, or plasma exchanges. Another well-documented cause of pure red cell aplasia is a chronic parvovirus B19 infection, which may be seen in immunocompromised hosts. The treatment of this cause of PRCA includes removal of immunosuppression, intravenous immunoglobulin (IVIg), or rituximab; however, this condition may also be self-limiting. We show a case of a patient with PRCA who had previously received an ABO major mismatched allogeneic hematopoietic stem cell transplant, but also had an identified source of parvovirus B19 in his marrow post-transplant. He underwent several various treatments for his PRCA, including rituximab, bortezomib, and then plasma exchange. Anti-A IgM and IgG titers were drawn throughout his treatment course, and fell from 512 (anti-A IgM) and 1024 (anti-A IgG) to 2 (anti-A IgM) and 8 (anti-A IgG). After his last plasma exchange procedure, the patient's hemoglobin and reticulocyte count rose from 6.6 g/dL and 12.5 × 109 /L (respectively) at the onset of the PRCA diagnosis to 9.6 g/dL and 138.1 × 109 /L after a series of 14 plasma exchanges. This demonstrates a case of PRCA caused by an ABO major mismatched allogeneic hematopoietic stem cell transplant that was potentially complicated by a parvovirus infection, which was treated with multiple therapeutic interventions including a series of therapeutic plasma exchanges, rituximab, and bortezomib. Successful resolution of the patient's PRCA was achieved.\n",
      "\n",
      "10.1136/bcr-2017-222149\n",
      "First case of acute granulomatous interstitial nephritis with immune reconstitution inflammatory syndrome in a patient with HIV coinfected with disseminated Mycobacterium kansasii.\n",
      "Restoration of immune response by highly active antiretroviral therapy (HAART) effectively improved the overall prognosis of HIV infection. However, 25%-31.7% of patients experience paradoxical worsening of pre-existing infections or unmasking of subclinical infections after starting HAART therapy, which is termed as immune reconstitution inflammatory syndrome (IRIS). Acute granulomatous interstitial nephritis as a consequence of IRIS has never been reported with Mycobacteriumkansasiicoinfection. Here, we describe an HIV/AIDS patient coinfected with disseminated M. kansasii infection, who presented with acute kidney injury 4.5 months after initiation of HAART. The diagnostic workup revealed IRIS was the cause of acute kidney injury. Short-term course of prednisone (1 mg/kg/day) along with antimycobacterial and HAART regimen achieved significant improvement.\n",
      "\n",
      "10.1159/000510323\n",
      "Cytology of SMARCA4-Deficient Thoracic Neoplasms: Comparative Analysis of SMARCA4-Deficient Non-Small Cell Lung Carcinomas and SMARCA4-Deficient Thoracic Sarcomas.\n",
      "Inactivating mutations of the SMARCA4 (SWI/SNF-related, matrix-associated, actin-dependent regulator of chromatin, subfamily A, member 4) gene and/or loss of the BRG1 (brahma-related gene 1) protein defines SMARCA4-deficient thoracic sarcoma (SMARCA4-dTS), an aggressive neoplasm with a usually fatal outcome. Similar SMARCA4 mutations/BRG1 loss is also seen in a subset of non-small cell lung carcinomas (NSCLCs; SMARCA4-dNSCLCs) that lack alterations in currently targetable oncogenic drivers, that is, EGFR, ALK, and ROS1. There is limited knowledge on the cytomorphological features of these SMARCA4-deficient thoracic neoplasms. We retrospectively analysed the cytology of 2 cases each of SMARCA4-dNSCLC and SMARCA4-dTS to understand their cytomorphological overlap, if any, and identify features that would prompt testing for BRG1 loss. All 4 patients were males presenting with advanced disease, with a mean age of 41.5 years (SMARCA4-dTS) and 58.5 years (SMARCA4-dNSCLC) at presentation. The cytology of the 2 SMARCA4-dTSs was strikingly similar, showing predominantly singly dispersed rhabdoid phenotype tumour cells with perinuclear cytoplasmic condensations in an inflammatory or necrotic background. The cytology raised suspicion for a wide range of differentials, including melanoma, high-grade lymphoma, germ cell tumour, undifferentiated carcinoma, and undifferentiated sarcoma. SMARCA4-dNSCLCs, on the other hand, were recognizable as poorly differentiated (adeno)carcinomas and were easily distinguished from SMARCA4-dTSs, with both cases showing cohesive clusters of frequently large tumour cells with abundant pale cytoplasm. A diagnosis of SMARCA4-dTS is possible on cytology with appropriate ancillary testing and a high index of suspicion. The cytology of SMARCA4-dNSCLCs does not overlap with SMARCA4-dTS; rather, it resembles that of any poorly differentiated (adeno)carcinoma in the limited numbers analysed in this study.\n",
      "\n",
      "10.1111/jvim.15988\n",
      "X-linked CD40 ligand deficiency in a 1-year-old male Shih Tzu with secondary Pneumocystis pneumonia.\n",
      "An approximately 1-year-old male intact Shih Tzu dog was referred to a tertiary facility with a history of progressive tachypnea, increased respiratory effort, and weight loss over a 3-month period that failed to improve with empirical antimicrobial treatment. Upon completion of a comprehensive respiratory evaluation, the dog was diagnosed with severe Pneumocystis pneumonia and secondary pulmonary hypertension. Clinical signs resolved and disease resolution was confirmed after completion of an 8-week course of trimethoprim-sulfonamide, 4-week tapering dose of prednisone to decrease an inflammatory response secondary to acute die-off of organisms, a 2-week course of clopidogrel to prevent clot formation, and a 2-week course of a phosphodiesterase-5 inhibitor to treat pulmonary hypertension. Immunodiagnostic testing and genetic sequencing were performed to evaluate for potential immunodeficiency as an underlying cause for the development Pneumocystis pneumonia, and identified an X-linked CD40 ligand deficiency.\n",
      "\n",
      "10.4269/ajtmh.20-0851\n",
      "Case Report: Multidrug-Resistant Tuberculosis and COVID-19 Coinfection in Port-au-Prince, Haiti.\n",
      "The COVID-19 pandemic poses a unique threat to patients with multidrug-resistant tuberculosis (MDR-TB). We describe a case of a patient with pulmonary MDR-TB and COVID-19 in Port-au-Prince, Haiti, and highlight the challenges and approach to managing a patient with both diseases.\n",
      "\n",
      "10.1016/j.envres.2019.108742\n",
      "Amyotrophic lateral sclerosis incidence following exposure to inorganic selenium in drinking water: A long-term follow-up.\n",
      "Some studies have reported an association between overexposure to selenium and risk of amyotrophic lateral sclerosis (ALS), a rare degenerative disease of motor neurons. From 1986 through 2015, we followed a cohort in Northern Italy that had been inadvertently consuming tap water with unusually high concentrations of inorganic hexavalent selenium from 1974 to 1985. We had previously documented an excess incidence of ALS in this cohort during 1986-1994. Here, we report extended follow-up of the cohort for an additional 21 years, encompassing 50,100 person-years of the exposed cohort and 2,233,963 person-years of the unexposed municipal cohort. We identified 7 and 112 incident ALS cases in the exposed and unexposed cohorts, respectively, yielding crude incidence rates of 14 and 5 cases per 100,000 person-years. A Poisson regression analysis, adjusting for age, sex and calendar year, produced an overall incidence rate ratio (IRR) for ALS of 2.8 (95% confidence interval (CI) 1.3, 6), with a substantially stronger IRR in 1986-1994 (8.2, 95% CI 2.7, 24.7) than in 1995-2015 (1.5, 95% CI 0.5, 4.7), and among women (5.1, 95% CI 1.8, 14.3) than men (1.7, 95% CI 0.5, 5.4). Overall, these results indicate an association between high exposure to inorganic selenium, a recognized neurotoxicant, and ALS incidence, with declining rates after cessation of exposure and stronger effects among women.\n",
      "\n",
      "10.1016/j.avsg.2018.04.046\n",
      "Ultrasound-Guided Direct Needle Engagement for Flush-Occluded Superficial Femoral Artery.\n",
      "Flush ostial occlusion of the superficial femoral artery (SFA) is challenging for endovascular treatment. Neither ipsilateral nor contralateral access is easy. The drawback of ipsilateral common femoral artery (CFA) access is that the CFA is too short for catheter manipulation and sheath engagement. Contralateral retrograde CFA access could have merit, but it has the drawback of poor pushability and torquability in the manipulation of devices. The most challenging part of flush ostial occlusion is the difficulty of wire engagement into the SFA orifice. We describe a case of successful treatment of a flush-occluded long SFA lesion using ultrasound-guided direct ipsilateral ostial access.\n",
      "\n",
      "10.1093/milmed/usz484\n",
      "Hairy Cell Leukemia and Ground Water Contamination With Industrial Solvents: a Case Report.\n",
      "The industrial solvents benzene and trichloroethylene (TCE) are known carcinogens, and these solvents contaminated the drinking water at Marine Corps Base Camp Lejeune from the 1950s to 1980s. Benzene and TCE are linked to the hematopoietic cancers acute myelocytic and lymphocytic leukemia and chronic lymphocytic leukemia. We report the case of a veteran stationed at Marine Corps Base Camp Lejeune during this period who developed hairy cell leukemia (HCL), a rare form of lymphocytic leukemia. We review his presentation, medical history, solvent exposure, and literature on the carcinogenicity of benzene and TCE. This patient represents a possible link of TCE or benzene to HCL. The case also informs clinicians of the updated epidemiology with regards to clinical findings for HCL.\n",
      "\n",
      "10.1111/cup.13080\n",
      "Pleomorphic mastocytoma in an adult.\n",
      "Cutaneous mastocytoma (CM) is a localized variant of mastocytosis, characterized by an over-accumulation of mast cells in the skin, without extra-cutaneous organ involvement. It is defined as the presence of up to 3 isolated mast-cell skin lesions and commonly develops in newborns and children. We report the case of a 35-year-old healthy Caucasian woman presenting with a 4-year history of a pruritic brown plaque on her left breast. Hematoxylin-eosin staining showed a dense dermal infiltrate of atypical mast cells extending to the subcutis. The cells presented a marked nuclear pleomorphism with bilobed and multilobed nuclei. Immunohistochemical studies revealed strongly expressed KIT (CD117) and CD25 proteins. Serum tryptase levels and bone marrow biopsy were normal. The diagnosis was a solitary cutaneous pleomorphic mastocytoma. This case can be added to 17 other cases of adult mastocytoma documented in the literature, although, unlike other reported cases, and as far as we are aware, this is the first case of pleomorphic mastocytoma in an adult.\n",
      "\n",
      "10.1097/MD.0000000000021119\n",
      "Myeloid sarcoma of the nasal cavity in a 15-month-old child: A case report.\n",
      "Myeloid sarcoma (MS) is a rare tumor mass. It may occur at any extramedullary anatomic sites but is uncommon in the sinonasal location.MS commonly presents concurrently with acute myeloid leukemia (AML), but it may predate AML over several months or years, named isolated MS. We report a case of a 15-month-old child who presented with mouth breathing, bilateral rhinorrhea, palpebral edema and proptosis. The routine blood tests were normal for the first few months. Computed tomography scan revealed neoplasm in nasal cavity. The patient was definitely diagnosed with isolated MS in the nasal cavity through immunohistochemistry combined with clinical features and radiological investigations, and MS further progressed to AML which was confirmed by hematologist. Endoscopic sinus surgery was performed to acquire specimens. After diagnosis, the patient was promptly treated with systemic chemotherapy. All symptoms gradually subsided and the mass of nasal cavity was invisible. No relapse occurred during follow-up. Sinonasal MS may be misdiagnosed and should be considered when symptoms persist and worsen. Prompt clinic examinations are essential for cases with suspected MS. Diagnosis of MS is dependent on the immunohistological investigations combined with clinical features, radiological investigations. Early diagnosis and systemic chemotherapy are vital for patients to achieve best prognosis.\n",
      "\n",
      "10.1212/WNL.0000000000005416\n",
      "Right Brain: Withholding treatment from a child with an epileptic encephalomyopathy.\n",
      "The case of Charlie Gard, an infant who was hospitalized in England due to a mitochondrial DNA depletion syndrome that led to an epileptic encephalomyopathy, was highly publicized. Though Charlie's parents lobbied for him to receive experimental nucleoside replacement therapy as a desperate effort to save him, this request was denied, and after a lengthy legal battle, he died in late July 2017. We discuss the ethical considerations and consequences of this case.\n",
      "\n",
      "10.1016/j.ijscr.2020.05.093\n",
      "Septic arthritis of the hip, an unreported complication of perforated appendicitis: A case report.\n",
      "Progression of inflammation in acute appendicitis can lead to appendiceal perforation, which is associated with higher morbidity and mortality. Bacteremia due to a perforated appendicitis can lead to distal bacterial seeding, resulting in further complications. We present here a case of appendiceal perforation in a 32-year-old previously healthy male. Patient was conservatively managed with intravenous (IV) antibiotics and was discharged on hospitalization day-6. Prior to scheduled interval appendectomy, he developed right sided hip pain with decreased range of motion. Computed tomography (CT) scan with contrast showed right hip abscess and enlarged pelvic lymph nodes. Arthrocentesis yielded purulent fluid with leukocytosis (84.8 k/CMM) and neutrophilia (89%). Patient underwent emergent incision and drainage of the hip abscess followed with 42-days of IV antibiotics for septic arthritis. This case presents a unique occurrence of a complication from appendiceal perforation in patients who are initially managed non-operatively. Clinicians should be mindful of rare complications associated with non-operative management of appendicitis.\n",
      "\n",
      "10.1186/s12886-019-1102-5\n",
      "Granular cell tumor presenting as an intraocular mass: a case report.\n",
      "Granular cell tumor (GCT) can arise in any location in the body and present as a solitary, slow-growing, painless mass. However, GCT rarely affects the orbit. We report a Chinese girl who presented with an intraocular mass, and in whom a biopsy led to a diagnosis of GCT. A 5-year-old Chinese girl exhibited exotropia in her right eye for 2 years and had been losing her vision for 6 months. The visual acuity in the right eye revealed no light perception. A fundus examination showed a large, yellowish-white, elevated, subretinal mass lesion in front of and inferior to the disc, with hemi-inferior-quadrant retinal detachment. The retina was greyish-yellow with scattered yellow spots. A vitrectomy with neoplasm resection was performed. A histopathologic examination revealed a GCT. The tumor cells were positive for CD68, NSE, S-100, and CD163 expression but negative for GFAP, Syn, and CD123 expression. The Ki-67 index was 1%. The right eye remained stable with visual acuity of no light perception at a 2-years follow-up. Intraocular GCT can present as a yellow-white solid mass with no calcification. Although intraocular GCT is very rare, it can lead to devastating visual loss. Intraocular GCT should be kept in mind and considered in clinical practice.\n",
      "\n",
      "10.1097/MD.0000000000011653\n",
      "Stroke and peripheral embolisms in a pediatric patient with giant atrial myxoma: Case report and review of current literature.\n",
      "Cerebral stroke with peripheral embolism due to left atrial myxoma is very rare in children. Misdiagnosis may occur because of nonspecific symptoms in the heart. We present a case of a 16-year-old boy who presented with ischemic stroke and embolisms in the lower extremity, caused by a giant left atrial myxoma. Left atrial myxoma. A giant gelatinous mass was completely excised, and the histopathological findings confirmed the diagnosis of atrial myxoma. The temperature of the right lower extremity recovered gradually, and pulse of the right dorsalis pedis artery became palpable 10 days after the surgery. The strength of the bilateral lower extremity was level 5 at discharge. Our case, along with the review of the literature, highlights the fact that myxomas often initially present with multiple embolisms but with few cardiac symptoms. Transthoracic echocardiography should be performed immediately to make a definitive diagnosis.\n",
      "\n",
      "10.1177/1941874419828603\n",
      "A Case of Tolosa-Hunt Syndrome With Discoid Lupus Erythematosus.\n",
      "The occurrence of Tolosa-Hunt syndrome (THS) in the setting of discoid lupus erythematosus (DLE) has not been previously reported. We report a case of a 55-year-old Chinese man with established cutaneous lupus who presented with 1 week of worsening blurry vision and ptosis of the left eye with severe headache 2 weeks prior to presentation. His cranial nerve examination was significant for left afferent pupillary defect, red desaturation, ptosis, and oculomotor nerve palsy. He also presented with active DLE lesions. Magnetic resonance imaging brain demonstrated asymmetric thickening and enhancement of the left cavernous sinus consistent with THS. After a 4-week gradual steroid taper his ophthalmoplegia resolved. The unusual occurrence of THS and DLE prompts consideration of nonsystemic autoimmune disorders in diagnosis of THS.\n",
      "\n",
      "10.1136/bcr-2018-014469\n",
      "Real-time MRI guidance for intra-arterial drug delivery in a patient with a brain tumor: technical note.\n",
      "Patients with malignant brain tumors have a poor prognosis. The blood-brain barrier (BBB) is considered a primary obstacle in therapeutic drug delivery to the brain. Intra-arterial (IA) delivery of therapeutic agents following osmotic BBB opening has been attempted for years, but high variability has limited its widespread implementation. It has recently been shown in animal studies that MRI is superior to X-ray for guiding IA infusions, as it allows direct visualization of the brain parenchyma supplied by the catheter and facilitates predictable drug targeting. Moreover, PET imaging has shown that IA rather than intravenous delivery of bevacizumab results in accumulation in the brain, providing a strong rationale for using the IA route. We present a patient with recurrent butterfly glioblastoma enrolled in a first-in-man MRI-guided neurointervention for targeted IA drug delivery.\n",
      "\n",
      "10.1097/RLU.0000000000002767\n",
      "Atypical Parkinson Syndrome Hiding a Meningioma.\n",
      "A 59-year-old man had developed within a few months walking disorders and rigidity of the left upper limb. I-FP-CIT SPECT/CT was performed in response to the suspicion of atypical parkinsonian syndrome. It showed an anomaly in presynaptic dopaminergic transmission on the right striatum and a voluminous expansive process on CT. MRI revealed an atypical meningioma. The patient had surgery for tumor removal. Later I-FP-CIT SPECT/CT showed normalization of presynaptic dopaminergic transmission on the right striatum.\n",
      "\n",
      "10.1097/IAE.0000000000002273\n",
      "PATHOLOGY OF PERIMACULAR FOLDS DUE TO VITREORETINAL TRACTION IN ABUSIVE HEAD TRAUMA.\n",
      "To demonstrate vitreoretinal traction as a mechanism for perimacular folds in abusive head trauma. We performed gross and histopathologic examination of eyes of children with suspected abusive head trauma and identified those with typical perimacular folds. Information was collected regarding the incident that led to the child's death and systemic manifestations noted at autopsy. Eyes were prepared in a fashion that allowed for demonstration of the vitreoretinal interface. Ten eyes of five patients (2-13 months) were examined. All patients had systemic manifestations of abusive trauma including intracranial injury. All cases provided evidence of vitreoretinal traction producing perimacular folds. Condensed vitreous was seen attached to the apices of the retinal folds, and the detached internal limiting membrane comprising the inner surfaces of the schisis cavity. Four cases showed severe bilateral multilayered symmetric retinal hemorrhages extending to the ora serrata. All cases showed optic nerve sheath subdural hemorrhage and subarachnoid hemorrhage. Orbital hemorrhage was unilateral in two cases and bilateral in three cases. Four cases showed orbital fat hemorrhage. One case showed extraocular muscle sheath and cranial nerve sheath hemorrhage. Two cases showed juxtapapillary intrascleral hemorrhage. Vitreoretinal traction is the likely mechanism of perimacular folds in abusive head trauma.\n",
      "\n",
      "10.1016/j.ijtb.2020.05.002\n",
      "Moxifloxacin induced encephalopathy in disseminated tuberculosis: A case report.\n",
      "Moxifloxacin is a third-generation fluoroquinolone antibiotic with broad spectrum activity and also used as component of anti-tubercular therapy (ATT). Though frequently prescribed, moxifloxacin induced encephalopathy is uncommonly seen. Here we describe a forty four year old male, with features of disseminated tuberculosis (TB) and suspected case of multi-drug resistance (MDR), who developed acute encephalopathy. Extensive laboratory investigations, neuroimaging of brain, cerebrospinal fluid analysis was unremarkable. On stopping moxifloxacin, which was being administerd as part of ATT for MDR TB, encephalopathy resolved completely, thereby proving it to be a case of moxifloxacin induced encephalopathy. To conclude, by presenting this case, we wish to raise awareness about moxifloxacin induced encephalopathy among healthcare providers.\n",
      "\n",
      "10.1007/s12022-020-09605-6\n",
      "Gallbladder Mixed Neuroendocrine-Non-neuroendocrine Neoplasm (MiNEN) Arising in Intracholecystic Papillary Neoplasm: Clinicopathologic and Molecular Analysis of a Case and Review of the Literature.\n",
      "Mixed neuroendocrine-non-neuroendocrine neoplasms (MiNENs) of the gallbladder are generally composed of adenocarcinoma and neuroendocrine carcinoma (NEC). Rare cases associated with intracholecystic papillary neoplasm (ICPN) have been reported. Although recent molecular data suggest that the different components of digestive MiNENs originate from a common precursor stem cell, this aspect has been poorly investigated in gallbladder MiNENs. We describe the clinicopathologic and molecular features of a MiNEN composed of ICPN, adenocarcinoma, and NEC. A 66-year-old woman presented with severe abdominal pain. She underwent radical cholecystectomy and an intracholecystic mass was found. Histologically, it was composed of ICPN associated with adenocarcinoma and large cell neuroendocrine carcinoma (LCNEC). The three components were positive for DNA repair proteins and p53. EMA was positive in the ICPN and adenocarcinoma components, while it was negative in the LCNEC. Heterogeneous expression of Muc5AC, cytokeratin 20, and CDX2 was only observed in the ICPN component. Cytokeratin 7 was diffusely positive in both adenocarcinoma and LCNEC components, while it was heterogeneously expressed in the ICPN. The copy number variation analysis showed overlapping results between the adenocarcinoma and LCNEC components with some minor differences with the ICPN component. The three tumor components showed the same mutation profile including TP53 mutation c.700T > C (p. Tyr234His), without mutations in other 51 genes known to be frequently altered in cancer pathogenesis and growth. This finding may support the hypothesis of a monoclonal origin of the different tumor components. We have also performed a review of the literature on gallbladder MiNENs.\n",
      "\n",
      "10.17116/hirurgia201903180\n",
      "[Minimally invasive ascending aortic replacement in patient with chronic aortic dissection type A (in Russian only)].\n",
      "It is presented case report of minimally invasive surgical repair of chronic aortic dissection type A in a 61-year-old patient. Perspective minimally invasive surgical approach is suggested for this pathology in order to improve quality of life and rehabilitation after cardiac surgery. Surgical technique and features are comprehensively described.\n",
      "\n",
      "10.18502/cmm.4.2.61\n",
      "Complicated bilateral fungal emphysematous pyelonephritis in a 55-year-old diabetic female: A case report and review of literature.\n",
      "Emphysematous pyelonephritis (EPN) is a rare and serious disease causing acute renal failure. Diabetes is a major risk factor for this infection. Herein, we present the case of a 55-year-old female patient with diabetes and EPN caused by Candida albicans. The infection was complicated with endophthalmitis and endocarditis. The results of antifungal susceptibility analysis showed that C. albicans was resistant to fluconazole and susceptible to amphotericin-B and itraconazole. Infection could be controlled by amphotericin-B followed by itraconazole therapy, and the patient was discharged in good condition while receiving antifungal therapy. Complicated pyelonephritis with unusual microorganisms should be considered in patients with diabetes and urinary symptoms.\n",
      "\n",
      "10.1016/j.wneu.2020.01.086\n",
      "Infant Fistula-Type Arteriovenous Malformation with Cerebellar Hemorrhage Developed into Nidus-Type in Adolescence.\n",
      "Although arteriovenous malformation (AVM) has been considered to be a congenital vascular malformation, morphologic differences associated with age have been indicated in the literature. We report a case of infant fistula-type AVM that developed into a nidus-type AVM 15 years later. This is the first report to document morphologic changes of AVM over time in 1 case. The present case suggests the possibly that AVM morphology may change with age and is an important when considering the history of AVM.\n",
      "\n",
      "10.15420/icr.2020.06\n",
      "Management of Valvular Disease During Pregnancy: Evolving Role of Percutaneous Treatment.\n",
      "Valvular heart disease (VHD) is encountered in approximately 1% of pregnancies, significantly increasing both maternal and foetal risk. Rheumatic VHD remains the most common form in non-Western countries, whereas congenital heart disease dominates in the Western world. The risk of complications varies according to the type and severity of the underlying VHD. Moreover, pregnancy is a hypercoagulable state associated with increased risk of thromboembolism. The authors review the main VHDs encountered during pregnancy, and suggest management strategies based on the 2018 European Society of Cardiology recommendations for the management of pregnant women with VHD, providing an overview of classical and new transcatheter structural therapeutic options with a special focus on radiation exposure and anticoagulation drug management.\n",
      "\n",
      "10.1097/MD.0000000000019450\n",
      "Allogeneic hematopoietic stem cell transplantation for Crohn disease complicated with myelodysplastic syndrome: A case report.\n",
      "Myelodysplastic syndrome (MDS) can be complicated with Crohn disease (CD). Irritable bowel disease (IBD) associated with MDS has already been reported in the past; however, hematopoietic stem cell transplantation (HSCT) is rarely performed. Herein, we report a case of CD with MDS for HSCT. A 41-year-old man was hospitalized due to abdominal pain and intermittent fever for 40 days. Two years later, he was readmitted due to abdominal pain and diarrhea with fever for 10 days. Symptoms, laboratory examinations, and imaging findings of the patient were indicative of CD complicated with MDS. An allogeneic HSCT was performed. He died of severe lung infection 125 days post-transplantation. The number of cases of CD combined with MDS remains insufficient, and no consensus opinions are available to date. Hence, HSCT is a very potential treatment method. Additional experiences are needed to determine its effectiveness.\n",
      "\n",
      "10.1097/GCO.0000000000000613\n",
      "Genetic counseling for fetal gastrointestinal anomalies.\n",
      "Congenital gastrointestinal anomalies are common findings with relatively established methods of treatment. However, the genetic cause of how these defects occur and how that may impact a child's lifelong care is less established. Genetic testing has improved significantly in recent years, yet reviews documenting prenatal genetic counseling and testing guidelines have not been comprehensively updated. Congenital anomalies of the foregut, such as tracheoesophageal fistula carry a high association with genetic disorders, both in isolation and syndromic forms. Duodenal atresia remains highly associated with Trisomy 21 but is not enriched in other genetic conditions. Disorders of the midgut, such as omphalocele often have a genetic cause and may require both cytogenetic and panel testing to obtain a diagnosis. The etiologic basis of hindgut malformations remain largely unknown, though imperforate anus as well as Hirschprung's disease have been associated with many micro deletion syndromes as well as in association with other birth defects as part of larger syndromes. Prenatal diagnostic genetic testing through amniocentesis or chorionic villus sampling can be offered to every patient who wants to learn genetic information about their fetus. Cytogenetic testing, such as microarray is a first tier test to assess cause for these conditions and can provide meaningful answers. When a gastrointestinal anomaly is identified in association with an additionally affected organ system next-generation sequencing and defect-specific genetic testing panels can be necessary to understand cause as well as prognosis to best prepare families for the medical management that lies ahead.\n",
      "\n",
      "10.1016/j.cjca.2019.08.019\n",
      "An Elderly Woman with Exertional Dyspnoea and T-Wave Inversions on Electrocardiography.\n",
      "We present a case of a 75-year-old woman with cardiac dextroposition who presented for preoperative cardiac evaluation because of exertional dyspnoea. On examination, heart sounds were best appreciated on the right, and bowel sounds were heard over the left hemithorax. Electrocardiography showed widespread T-wave inversions. No coronary artery ischemia was found. A large congenital diaphragmatic hernia with displacement of the heart to the right was found on chest radiography and confirmed on computed tomography. Surgery was subsequently uneventful. In conclusion, thorough pulmonary auscultation to detect bowel sounds in the thorax increases clinical suspicion of cardiac dextroposition.\n",
      "\n",
      "10.4317/jced.55506\n",
      "Outpatient minor oral surgery in patients with hemophilia: A case series of 23 patients.\n",
      "Hemophilia is an inherited coagulation disorder characterized by deficiency of the coagulation factor VIII or IX. When the management of hemostasis is inadequate, these patients are at high risk of experiencing intra and postoperative bleedings after tooth extractions. Coagulation factor replacement therapy allows performing most surgical procedures safely, although the factor levels and length of treatment have not been clearly determined. In this study, we present our experience in a retrospective series of 112 ambulatory tooth extractions under local anesthesia in 23 patients with hemophilia using a coagulation factor replacement therapy in combination with tranexamic acid. The results obtained with this protocol were satisfactory and only one episode of mild postoperative bleeding occurred after seven days in a patient who did not have good treatment compliance. Key words:Hemophilia, factor replacement therapy, tooth extractions, postoperative complications.\n",
      "\n",
      "10.5546/aap.2020.e414\n",
      "[Neonatal adrenal hemorrhage in the context of isoimmune neonatal jaundice. Case report].\n",
      "Hemorrhage of the adrenal glands in the neonatal period happens secondarily to birth trauma and to changes in venous pressure. Neonatal jaundice has as an infrequent etiology the presence of an adrenal gland hematoma. Symptomatic cases are rare, and if they manifest, it is usually as prolonged jaundice. We present the case of a neonate who was admitted at 20 hours of life due to isoimmune jaundice. Due to an increase in conjugatedbi]irubin, an abdominal ultrasound was requested at 10 days of life, which showed a non-vascularized right adrenal mass, 50 x 21 mm, with cystic images inside, compatible with bleeding of the right adrenal gland. Serial ultrasound showed a progressive resolution until its disappearance, keeping the baby asymptomatic and withoutj aundice. In cases of prolonged jaundice in the neonatal period, the possibility of significant adrenal hemorrhage must be assessed.\n",
      "\n",
      "10.1038/s41394-019-0249-x\n",
      "Copper deficiency related myelopathy 40 years following a jejunoileal bypass.\n",
      "Acquired copper deficiency myelopathy is a rare disorder associated with hematologic abnormalities, peripheral neuropathy, and sensory ataxia. Although its clinical presentation and radiographic findings are similar to other nutrient deficiencies, practitioners often fail to diagnose copper deficiency. This report describes a case of copper deficiency decades after a jejunoileal bypass (JIB) to draw attention to potential long-term sequelae associated with this now abandoned procedure. A 67-year-old female presented with bilateral paresthesias of her hands and legs, accompanied by gait instability and frequent falls. The individual had a significant history of malabsorption and malnutrition related to a 40 years prior JIB for weight loss. MRI demonstrated T2 hyperintense signal in the dorsal spinal cord between C3 and C5. She was found to have copper deficiency, underwent IV repletion, prescribed oral repletion, and was discharged home. She subsequently developed progressive symptoms over the following year and remained unable to function at home. Treatment required inpatient copper repletion followed by inpatient rehabilitation. Following rehabilitation, the individual demonstrated significant improved independence. Although JIB surgery is not currently performed, it is important to recognize the metabolic consequences of nutrient deficiencies related to this procedure and the potential for the development of neurological sequelae including myelopathy. Furthermore, additional causes of copper deficiency to consider in cases of undifferentiated myelopathy include congenital metabolic syndromes, zinc toxicity, and malabsorption. This case demonstrates the potential of intensive physical and occupational therapy regimens, along with symptomatic treatment and nutrient repletion, to help an individual regain independence and improve activities of daily living.\n",
      "\n",
      "10.24875/RIC.20000320\n",
      "Infusion of Convalescent Plasma is associated with Clinical Improvement in Critically Ill Patients With Covid-19: A Comment.\n",
      "Dear Editor, I would like to share ideas on the publication by Olivares- Gazca et al.1, titled: Infusion of convalescent plasma is associated with clinical improvement in critically ill patients with COVID-19: A pilot study. The authors stated that \"although other treatment were also administered to the patients and as a result data are difficult to interpret, it seems that the addition of CoPla improved pulmonary function1.\" In fact, it is possible that convalescent plasma therapy might be useful in management of the COVID-19 patients.\n",
      "\n",
      "10.4251/wjgo.v10.i10.317\n",
      "Histo-molecular oncogenesis of pancreatic cancer: From precancerous lesions to invasive ductal adenocarcinoma.\n",
      "Pancreatic cancer is a lethal malignancy, whose precursor lesions are pancreatic intraepithelial neoplasm, intraductal papillary mucinous neoplasm, intraductal tubulopapillary neoplasm, and mucinous cystic neoplasm. To better understand the biology of pancreatic cancer, it is fundamental to know its precursors and to study the mechanisms of carcinogenesis. Each of these precursors displays peculiar histological features, as well as specific molecular alterations. Starting from such pre-invasive lesions, this review aims at summarizing the most important aspects of carcinogenesis of pancreatic cancer, with a specific focus on the recent advances and the future perspectives of the research on this lethal tumor type.\n",
      "\n",
      "10.1097/ICB.0000000000000756\n",
      "CRYOPYRIN-ASSOCIATED PERIODIC SYNDROME-ASSOCIATED UVEITIS AND PAPILLITIS.\n",
      "To report a case of uveitis and papillitis in a patient with cryopyrin-associated periodic syndrome. Case report. A 44-year-old white woman with a long history of inflammatory arthritis, diffuse erythematous rashes and hives, and hearing loss was referred to the Massachusetts Eye Research and Surgery Institution for an evaluation of chronic ocular inflammation. She was diagnosed with bilateral papillitis and uveitis after a comprehensive eye examination, which included dilated fundoscopy, optic nerve ocular coherence tomography, fluorescein angiography, indocyanine green angiography, and B-scan ultrasonography. She was later diagnosed with cryopyrin-associated periodic syndrome, an interleukin-1-driven autoimmune disease, as confirmed by genetic testing. Soon after starting treatment with anakinra, a human interleukin-1 receptor antagonist, she experienced rapid improvement of her ocular and systemic symptoms, including rash, uveitis, and arthritis. Cryopyrin-associated periodic syndrome-associated ocular inflammation in remission with anakinra 100-mg daily subcutaneous injection. Anakinra is a very effective treatment for both cryopyrin-associated periodic syndrome and cryopyrin-associated periodic syndrome-associated ocular inflammation.\n",
      "\n",
      "10.5603/EP.2018.0033\n",
      "TeleNEN as a telemedicine model for neuroendocrine neoplasm management in case of Meckel's diverticulum NET.\n",
      "A case of 25- years-old female with NET deriving from Meckel's diverticulum is described. The patient had one year history of dermatological skin problems. Ultrasound examination of abdomen performed because of arterial hypertension, revealed multiple hepatic lesions, which was confirmed in contrast enhanced CT. The typical contrast enhanced metastatic lesions in CT and elevated levels of chromogranin A suggested NET of unknown origin. SRS with 99mTc-HYNICTOC was perform for primary tumor localization, and revealed liver and paraaortic lymph nodes metastases, but no sign of primary tumor location. As a next step for primary tumor localization 68Ga-DOTATATE PET/CT was done, which revealed focus of increased uptake in small intestine considered to be the primary tumor site. The imaging and clinical history of patient was discussed on ENETS Tumor Board. Due to location of primary tumor in the small intestine with no anatomical changes in CT, laparotomy guided with gamma probe after 68Ga-DOTATATE injection was performed. During surgery procedure, the primary tumor was hardly palpable in the tip of Meckel's diverticulum, confirmed by gamma probe. After surgery, tandem peptide receptor radionuclide therapy (PRRT) was started. Patient received 4 doses of 90Y/177Lu-DOTATATE with total activity of 360 mCi (13.32 GBq). The three months follow up 68Ga-DOTATATE PET/CT had shown stable disease of patient. The presented case showed importance role of multidisciplinary team cooperation in patient management. Use of RGS is essential in cases like presented, when the tumor cannot be localized only by surgical palpation.\n",
      "\n",
      "10.1038/s41433-018-0242-9\n",
      "Serial TSH-receptor antibody levels to guide the management of thyroid eye disease: the impact of smoking, immunosuppression, radio-iodine, and thyroidectomy.\n",
      "The Thyrotropin receptor antibody (TRAb) is the main driver of Graves' disease (GD) and its most common extra-thyroidal manifestation: thyroid eye disease (TED). Though key to diagnosis, it has not been used routinely as a marker of disease activity or to guide treatment. Here we demonstrate, through a retrospective review of 105 patients with TED, that serial TRAb levels vary with time, correlate with disease activity and are affected by smoking and endocrine control. Such serial measurements can guide the modern management of thyroid eye disease, helping to prevent the more serious manifestations. We show that surgical thyroidectomy is associated with a reduction in antibody levels and a reduced rate of TED reactivation when compared to radio-iodine ablation where the stimulating antigen is not removed. This provides a molecular explanation for epidemiological studies showing radio-ablation being associated with an increased risk of orbitopathy. To demonstrate the effect of our clinical approach on a patient population, we then compared the incidence and severity of TED in a clinic in a period before and after the introduction of serial TRAb measurements. Despite an increase in disease incidence and severity at presentation over the two-decade study period, our approach saw a significant reduction in the need for surgical intervention for this orbital disorder.\n",
      "\n",
      "10.17235/reed.2020.7132/2020\n",
      "A common hepatic artery aneurysm with splenic artery involvement: an unusual cause of abdominal pain.\n",
      "Forty-eight year old man with epigastric pain. CT scan shows a common hepatic artery aneurysm (HAA) of 4,6 cm in size with permeable portal vein. Angiography demonstrates that it affects from the beginning of the celiac trunk until hepatic arteries bifurcation, producing a proximal splenic artery stenosis. Proximal and distal embolization is done achieving a complete aneurysm occlusion. A stent is placed in celiac trunk in order to maintain splenic flow. Permeability of distal hepatic artery through choledochal arteries is observed in a month follow-up CT scan. HAA are infrequent but potentially lethal. Endovascular techniques should be considered of choice currently. HAA embolization has an elevated risk of hepatic ischemia.\n",
      "\n",
      "10.1097/PAP.0000000000000189\n",
      "Atypical Hepatocellular Neoplasms: Review of Clinical, Morphologic, Immunohistochemical, Molecular, and Cytogenetic Features.\n",
      "The distinction of hepatocellular adenoma from well-differentiated hepatocellular carcinoma (HCC) can be difficult in some cases, especially on biopsy specimens. These borderline cases often occur in men or older patients and may have β-catenin activation or focal atypical morphologic features (such as small cell change, prominent pseudoacinar formation, cytologic atypia, focally thick plates, and/or focal reticulin loss) that are insufficient for an unequivocal diagnosis of HCC. The term \"atypical hepatocellular neoplasm\" has been advocated for these tumors, but a number of other terms, including \"atypical adenoma,\" \"hepatocellular neoplasm of uncertain malignant potential,\" and \"well-differentiated hepatocellular neoplasm with atypical or borderline features\" have also been proposed. This review proposes guidelines for designating tumors as atypical hepatocellular neoplasm and describes clinical, morphologic, immunohistochemical, molecular, and cytogenetic features that distinguish these tumors from typical hepatocellular adenoma and HCC.\n",
      "\n",
      "10.1212/NXG.0000000000000279\n",
      "Novel genotype-phenotype and MRI correlations in a large cohort of patients with SPG7 mutations.\n",
      "To clinically, genetically, and radiologically characterize a large cohort of SPG7 patients. We used data from next-generation sequencing panels for ataxias and hereditary spastic paraplegia to identify a characteristic phenotype that helped direct genetic testing for variations in SPG7. We analyzed MRI. We reviewed all published SPG7 mutations for correlations. We identified 42 cases with biallelic SPG7 mutations, including 7 novel mutations, including a large multi-exon deletion, representing one of the largest cohorts so far described. We identified a characteristic phenotype comprising cerebellar ataxia with prominent cerebellar dysarthria, mild lower limb spasticity, and a waddling gait, predominantly from a cohort of idiopathic ataxia. We report a rare brain MRI finding of dentate nucleus hyperintensity on T2 sequences with SPG7 mutations. We confirm that the c.1529C>T allele is frequently present in patients with long-standing British ancestry. Based on the findings of the present study and existing literature, we confirm that patients with homozygous mutations involving the M41 peptidase domain of SPG7 have a younger age at onset compared to individuals with mutations elsewhere in the gene (14 years difference, p < 0.034), whereas c.1529C>T compound heterozygous mutations are associated with a younger age at onset compared to homozygous cases (5.4 years difference, p < 0.022). Mutant SPG7 is common in sporadic ataxia. In patients with British ancestry, c.1529C>T allele represents the most frequent mutation. SPG7 mutations can be clinically predicted by the characteristic hybrid spastic-ataxic phenotype described above, along with T2 hyperintensity of the dentate nucleus on MRI.\n",
      "\n",
      "10.1016/j.cpm.2018.10.009\n",
      "Arthroscopic and Endoscopic Management of Common Complications After Displaced Intra-Articular Calcaneal Fractures.\n",
      "The list of late complications after calcaneal fracture that can be treated through arthroscopic and/or endoscopic approach continues to expand. The late complications of calcaneal fractures can be classified into 3 groups: (1) those causing focal hindfoot or ankle pain, (2) those causing functional deficit, and (3) those present with diffuse and poorly localized pain. Many group 1 and some group 2 complications can be managed arthroscopically and/or endoscopically. There are usually multiple coexisting sources of the pain. Careful evaluation and analysis of a problem and detailed surgical planning with combination of arthroscopic/endoscopic and open procedures are key to success.\n",
      "\n",
      "10.1016/j.ijscr.2018.11.043\n",
      "Management of coccydynia in the absence of X-ray evidence: Case report.\n",
      "Coccydynia is a rare pain syndrome due to trauma to the coccyx that is diagnosed through history, physical, and sitting/standing lateral plain film radiographs. Coccydynia is typically managed conservatively with specialized cushions, NSAIDS, and physical therapy. In cases refractory to nonsurgical management, coccygectomy has a high success rate for pain reduction. Our patient had coccygeal pain for three years and endorsed a mobile fragment that was not highlighted on plain film radiographs. After evaluation with MRI and CT, a coccygeal source of their pain was highlighted and partial coccygectomy was performed. Post-operatively, patient endorsed major improvement in her pain at follow up. In a case of suspected coccydynia where initial imaging is inconclusive but clinical suspicion is very high, higher level imaging such as MRI or CT can reveal radiographic findings of coccydynia. MRI and CT can play a role in the diagnosis and treatment of coccydynia in the absence of x-ray evidence.\n",
      "\n",
      "10.1007/s40620-020-00766-5\n",
      "Neonatal thrombotic microangiopathy secondary to factor I variant with Hirschsprung disease.\n",
      "Neonatal thrombotic microangiopathy (TMA) is a rare and severe disease characterized by a triad of non-immune hemolytic anemia, thrombocytopenia, and organ dysfunction in neonates. We describe herein an early-term infant who underwent hemicolectomy at 4 days of age due to intestinal perforation. Following surgery, the patient had recurrent bouts of vomiting and abdominal distention, together with acute kidney injury, non-immune hemolytic anemia, and severe thrombocytopenia. Low complement levels raised the possibility of complement-mediated neonatal TMA. Finally, genetic tests identified a heterozygous mutation in the complement factor I gene. Anti-C5 monoclonal antibody therapy led to complete cessation of the hematological and renal manifestations, but symptoms of intestinal obstruction recurred. Intestinal biopsy demonstrated aganglionosis, compatible with Hirschsprung disease. This presentation is the first known case of neonatal complement-mediated TMA associated with Hirschsprung disease. Moreover, it highlights the importance of considering a diagnosis of TMA in cases of atypical neonatal infectious presentation.\n",
      "\n",
      "10.3748/wjg.v25.i28.3753\n",
      "Pyrrolizidine alkaloids-induced hepatic sinusoidal obstruction syndrome: Pathogenesis, clinical manifestations, diagnosis, treatment, and outcomes.\n",
      "Hepatic sinusoidal obstruction syndrome (HSOS) can be caused by the intake of pyrrolizidine alkaloids (PAs). To date, PAs-induced HSOS has not been extensively studied. In view of the difference in etiology of HSOS between the West and China, clinical profiles, imaging findings, treatment, and outcomes of HSOS associated with hematopoietic stem cell transplantation or oxaliplatin might be hardly extrapolated to PAs-induced HSOS. Reactive metabolites derived from PAs form pyrrole-protein adducts that result in toxic destruction of hepatic sinusoidal endothelial cells. PAs-induced HSOS typically manifests as painful hepatomegaly, ascites, and jaundice. Laboratory tests revealed abnormal liver function tests were observed in most of the patients with PAs-induced HSOS. In addition, contrast computed tomography and magnetic resonance imaging scan show that patients with PAs-induced HSOS have distinct imaging features, which reveal that radiological imaging provides an effective noninvasive method for the diagnosis of PAs-induced HSOS. Liver biopsy and histological examination showed that PAs-induced HSOS displayed distinct features in acute and chronic stages. Therapeutic strategies for PAs-induced HSOS include rigorous fluid management, anticoagulant therapy, glucocorticoids, transjugular intrahepatic portosystemic shunt, liver transplantation, etc. The aim of this review is to describe the pathogenesis, clinical profiles, diagnostic criteria, treatment, and outcomes of PAs-induced HSOS.\n",
      "\n",
      "10.3201/eid2410.180548\n",
      "Clinical Isolation and Identification of Haematospirillum jordaniae.\n",
      "A clinical case study involving a man (35-49 years of age) with wounds to his lower right extremity. An isolate was sent to the Delaware Public Health Laboratory for confirmatory testing by genetic analysis of the 16S gene. Testing identified the isolate as a novel genus and species, Haematospirillum jordaniae.\n",
      "\n",
      "10.1007/s00261-019-02228-4\n",
      "MR defecography review.\n",
      "Pelvic floor dysfunction is a relatively common but often complex condition, presenting with a variety of clinical symptoms, especially when it involves multiple compartments. Clinical exam alone is often inadequate and requires a complementary imaging study. Magnetic resonance defecography (MRD) is an excellent noninvasive diagnostic study with its multiplanar capability, lack of ionizing radiation and excellent soft tissue resolution. It can identify both anatomic and functional abnormalities in the pelvic floor and specifically excels in its ability to simultaneously detect multicompartmental pathology and help with vital pre-operative assessment. This manuscript reviews the relevant anatomical landmarks, describes the optimal technique, highlights an approach to the interpretation of MRD, and provides an overview of the various pelvic floor disorders in the different anatomical compartments.\n",
      "\n",
      "10.1016/j.mmcr.2019.10.007\n",
      "Presentation of histoplasmosis as mononucleosis syndrome in an immunocompetent patient.\n",
      "Histoplasmosis is a fungal disease usually occurring in endemic areas that can affect immuno-impaired patients in whom pulmonary involvement is the rule. We present the case of an 18 year-old immunocompetent, male patient, resident of the State of Florida, who showed signs of mononucleosis syndrome that included odynophagia, cervical adenomegaly, sporadic fever and rash; however, no pulmonary involvement or visceromegaly were present. Faced with this atypical and unexpected clinical picture, histoplasmosis infection was eventually diagnosed following cervical lymph-node biopsy. Disseminated histoplasmosis may have unexpected manifestations, as is pointed out in the case described below.\n",
      "\n",
      "10.1016/j.ctim.2017.10.012\n",
      "Effect of topical rosemary essential oil on Raynaud phenomenon in systemic sclerosis.\n",
      "Raynaud's phenomenon is the earliest manifestation of systemic sclerosis. Nitroglycerin gel is the only proven topical therapy. A 53-year-old woman with systemic sclerosis had topical Rosamarinus officinalis (rosemary) oil, often used in anthroposophic medicine, applied to her hands over 3days and then, separately, olive oil. Thermography images showed significant warming of fingers after rosemary oil, but not after olive oil, coinciding with the patient's subjective experience. Topical Rosamarinus officinalis oil had a vasodilator and warming effect in a patient with systemic sclerosis and Raynaud's phenomenon.\n",
      "\n",
      "10.12788/ajo.2018.0062\n",
      "Osteochondritis Dissecans Lesion of the Radial Head.\n",
      "This case shows an atypical presentation of an osteochondritis dissecans (OCD) lesion of the radial head with detachment diagnosed on plain radiographs and magnetic resonance imaging (MRI). OCD lesions are rather uncommon in the elbow joint; however, when present, these lesions are typically seen in throwing athletes or gymnasts who engage in activities involving repetitive trauma to the elbow. Involvement of the radial head is extremely rare, accounting for <5% of all elbow OCD lesions. Conventional radiographs have low sensitivity for detecting OCD lesions and may frequently miss these lesions in the early stages. MRI, the imaging modality of choice, can detect these lesions at the earliest stage and provide a clear picture of the involved articular cartilage and underlying bone. Treatment options can vary between nonoperative and operative management depending on several factors, including age and activity level of the patient, size and type of lesion, and clinical presentation. This case represents a radial head OCD lesion managed by arthroscopic débridement alone, resulting in a positive outcome.\n",
      "\n",
      "10.1177/1352458520943080\n",
      "Enhancing quality of life in progressive multiple sclerosis with powered robotic exoskeleton.\n",
      "Wearable powered robotic exoskeleton can provide high repetitions and high-intensity gait training. It can promote a sense of well-being when the user is in upright posture to walk around different environment. We present a case of a lady with progressive multiple sclerosis who received 15 sessions of robotic exoskeleton training. Post training, she demonstrated improvement in lower limb strength, sense of well-being and self-esteem that led to improved transfer ability, increased social outings and better quality of life (QOL). Previously, she was depressed and reluctant to go out for social activities. This case suggests the potential of robotic exoskeleton to enhance QOL in people with mobility challenges.\n",
      "\n",
      "10.1016/j.currproblcancer.2019.01.001\n",
      "Pericardial effusion due to pembrolizumab-induced immunotoxicity: A case report and literature review.\n",
      "The advent of immune checkpoint inhibitors has revolutionized cancer treatment. These novel agents have provided promising treatment options in patients with different types of cancers. One of these agents is pembrolizumab, which works by blocking the binding of T-lymphocytes to programmed cell death ligand 1 receptors on tumor cells, thus enabling immune activation of T-lymphocytes against tumor cells. Pembrolizumab is commonly used in metastatic nonsmall cell lung cancer and melanoma. However, despite the remarkable efficacy this agent has achieved, multiple immune-related adverse events have been reported including hepatitis, colitis, thyroid dysfunction, and pneumonitis. Only 2 other cases of pericardial effusion as a side effect of pembrolizumab have been cited in the literature; however, its incidence may be on the rise. Despite the rarity of this side effect, its complications are potentially life threatening and no clear platform currently exists to help guide healthcare professionals in the management of these adverse events. Herein we present the case of a 66-year-old female who developed pericardial effusion as a side effect of pembrolizumab and review the data currently available to assist in the management of this life-threatening condition.\n",
      "\n",
      "10.5578/mb.68490\n",
      "[Meningitis Due to Streptococcus pneumoniae Serotype 24B in a Patient with Cochlear Implant Previously Vaccinated with the Pneumococcal Vaccine].\n",
      "Streptococcus pneumoniae is a major cause of bacterial meningitis in children. It can progress and carries a serious risk of mortality and morbidity despite effective treatment. Cochlear implantation is a fairly successful procedure for restoring hearing in cases of sensorineural hearing loss. Moreover, patients with cochlear implants are at increased risk of contracting pneumococcal meningitis compared to the general population. The development of meningitis is associated with pathogens in the middle ear that contaminate the cerebrospinal fluid (CSF), as a result of congenital anomalies in the cochlea, and the cochlear implant. A 4-year-old girl presented to our clinic with fever, vomiting, and weakness. A physical examination showed an axillary temperature of 38.3°C, heart rate of 134/min, respiration rate of 50 breaths/minute, and arterial blood pressure of 120/88 mmHg. The patient also had a neck stiffness and her Kernig and Brudzinski signs were positive. It was discovered that the patient had undergone cochlear implantation approximately five months prior due to bilateral congenital sensorineural hearing loss. She had also received the Haemophilus influenzae type b and PCV-13 vaccines in line with the national immunization calendar. Her laboratory findings showed a leukocyte count of 21.900/mm3 (neutrophils 90% and lymphocytes 10%) and her procalcitonin level was 1.22 ng/ml. An uncountable number of neutrophils was identified in her cerebrospinal fluid, which led to the initial diagnosis of meningitis. There was also 1 mg/dl of glucose (blood glucose, 102 mg/dl) and 706 mg/dl of protein in her cerebrospinal fluid. Empirically, vancomycin (60 mg/kg/day) and ceftriaxone (100 mg/kg/day) were started. Following 5 days of antibiotic treatment, penicillin-susceptible S.pneumoniae was yielded in her CSF culture and identified as serotype 24B. S.pneumoniae with the same antibiotic sensitivity was also identified in her blood culture. Since rhinorrhea was observed on day 16 of hospitalization, she underwent an operation to repair the fistula tract. A computerized tomography cranial scan was performed after the development of acute mental fog at postoperative day 3 and showed brain edema and a thrombus in the right middle cerebral artery. The patient died on day 42 of hospitalization due to multiple organ failure. To our knowledge, this is the first case of meningitis reported in our country associated with S.pneumoniae serotype 24B in a patient with a cochlear implant. While there has been a decrease in the prevalence of invasive pneumococcal disease with routine administration of the pneumococcal conjugate vaccine, a relative increase has been observed in its non-vaccine serotypes. This is relevant not only to patients with more risk factors, such as a cochlear implant, but also those who are at lower risk for pneumococcal infection.\n",
      "\n",
      "10.1016/j.ijscr.2019.06.065\n",
      "Use of a stent to treat colonic stenosis secondary to acute pancreatitis: A case report.\n",
      "We report a patient for whom a colonic stent was successfully used to treat colonic stenosis secondary to acute pancreatitis. A 70-year-old male presented with epigastric pain. A choledocholith and bile duct dilatation were found on abdominal computed tomography scan. Endoscopic retrograde cholangiopancreatography was performed and a common bile duct stent was placed. Ten hours after stent placement, severe epigastric pain developed. Contrast enhanced abdominal computed tomography scan revealed increased density of fat tissue around the pancreas. He was diagnosed with severe acute pancreatitis and treated in the intensive care unit. On the twenty-eighth hospital day, he vomited. His abdomen was distended and tender to palpation. Contrast enhanced abdominal computed tomography scan revealed stenosis of the descending colon and proximally dilated colon and small bowel. He was diagnosed with colonic stenosis secondary to acute pancreatitis. A colonic stent was placed in the descending colon. Eight months after this episode, elective subtotal colectomy was performed. The postoperative course was unremarkable. The overall documented leak rate for segmental colectomy with or without on-table lavage following large bowel obstruction is about 4%. In addition, in the acute phase of severe acute pancreatitis, inflammation makes surgery difficult. Use of enteric stents in patients with pancreatitis could be used as a temporizing measure until the inflammation and obstruction improve. Colonic stenting is useful as a bridge to surgery in the management of large bowel obstruction.\n",
      "\n",
      "10.1016/j.annder.2018.07.008\n",
      "[Cutaneous foreign body granulomas following cervico-facial arterial embolization: Three cases].\n",
      "Foreign body granuloma is an inflammatory tissue reaction to exogenous material. Classically it appears on the face after aesthetic procedures. Herein we report for the first time three cases of facial granulomatous reactions to microbeads after arterial cervico-facial embolization. Three patients underwent embolization of the facial arteries using Embogold® microbeads in a setting of epistaxis or tumoral hemostasis. Within 10 to 45 days painful, inflammatory, subcutaneous nodules appeared on the homolateral side of the face. Histological samples showed an inflammatory response with giant cells as well as the presence of microbeads in the skin. A favorable outcome was achieved with colchicine in one patient and with surgery in another; the third patient was lost to follow-up. The embolizing microspheres produced a local inflammatory reaction, with destruction of the vascular wall and bead migration to facial tissue leading to a granulomatous reaction. The occurrence of three cases within a period of few weeks, with several different operators and batches of products, is surprising considering the long-standing use of the product. There was no common comorbidity in the patients and no suggestion of trauma. Retrospective analysis of the product batches was normal. Gold staining could play a role in severe inflammatory response to Embogold® particles. These three cases illustrate the value of discussing potential foreign body granulomatous reaction in cases of facial nodules following cervico-facial embolization. Colchicine may offer a valuable therapeutic alternative.\n",
      "\n",
      "10.1647/2016-242\n",
      "Repair of a Tibiotarsal Fracture in a Pomeranian Goose ( Anser anser) With a Locking Plate.\n",
      "A 2-year-old Pomeranian goose ( Anser anser) weighing 8.1 kg was examined because of non-weight-bearing lameness of the right limb. A closed, transverse, diaphyseal fracture of the distal third of the right tibiotarsus with a craniolateral displacement of the distal fragment was diagnosed radiographically. Surgery under general anesthesia was performed to repair the fracture with a 14-hole, 2.7-mm locking plate fixed with 6 screws in a bicortical manner. Two days later, the bird was fully weight-bearing on the leg. Radiographs performed 4 and 8 weeks after surgery showed good healing of the affected bone with an appropriate callus formation bridging the fracture line. Sixteen weeks after surgery, the patient was readmitted because of lameness exhibited while staying outside exposed to subzero (°C) temperatures. On the basis of this finding, heat conduction was postulated as the possible cause of lameness because it disappeared after implant removal. To the best our knowledge, this case represents the first report of a surgical repair of a tibiotarsal fracture with a locking plate in waterfowl.\n",
      "\n",
      "10.4193/Rhin18.225\n",
      "Local fungus-specific Immunoglobulin E production in chronic rhinosinusitis with nasal polyps.\n",
      "Chronic rhinosinusitis with nasal polyps (CRSwNP) is a heterogeneous disease, and its pathogenesis remains controversial. This study aimed to examine the involvement of fungi in CRSwNP pathogenesis. We enrolled 29 controls and 111 CRSwNP patients. We analyzed fungi in the nasal secretions, serum fungus-specific immunoglobulin E (IgE) levels, and nasal polyp (NP) IgE levels. Moreover, we evaluated the correlation between patients' IgE levels and computed tomography (CT) scores. There was no difference in fungal detection rate between CRSwNP patients with and without asthma. Specific IgEs against various antigens were highly detectable in NPs of CRSwNP patients. In CRSwNP patients, fungus-specific IgE levels in NPs were correlated with CT scores. Serum fungus-specific IgEs became undetectable after operation in more than half of the CRSwNP patients without asthma but not in those with asthma. Other serum airborne antigen-specific IgEs did not become undetectable after operation. Fungus-specific IgEs were highly detectable in NPs of CRSwNP patients, and NPs comprised a major region of specific IgE production. Fungi may therefore play an important role in CRSwNP pathogenesis by inducing Th2 immune responses, including IgE synthesis.\n",
      "\n",
      "10.1016/j.wneu.2019.10.149\n",
      "Extended Endonasal Endoscopic Complete Resection of a Solitary Intraorbital Myofibroma: A Case Report and Literature Review.\n",
      "Infantile myofibromatosis is a rare benign disease of mesenchymal origin. It occurs mostly in infants but can occur in children and adults. It presents in 2 forms: solitary and multicentric. The presence of an orbital component, whether as a solitary lesion or as part of the multicentric disease, is even rarer. Surgery is required when these tumors behave aggressively and grow rapidly or when they are large enough to cause compression symptoms. Several surgical approaches have been described to resect such lesions. We present a case of a solitary intraorbital myofibroma extending into the optic canal in a 6-year-old girl that was completely resected via an extended endonasal endoscopic approach. This case report highlights the advantages of the extended endonasal endoscopic approach in terms of intraoperative and postoperative factors.\n",
      "\n",
      "10.2807/1560-7917.ES.2020.25.20.1900523\n",
      "Large community-acquired Legionnaires' disease outbreak caused by Legionella pneumophila serogroup 1, Italy, July to August 2018.\n",
      "In July 2018, a large outbreak of Legionnaires' disease (LD) caused by Legionella pneumophila serogroup 1 (Lp1) occurred in Bresso, Italy. Fifty-two cases were diagnosed, including five deaths. We performed an epidemiological investigation and prepared a map of the places cases visited during the incubation period. All sites identified as potential sources were investigated and sampled. Association between heavy rainfall and LD cases was evaluated in a case-crossover study. We also performed a case-control study and an aerosol dispersion investigation model. Lp1 was isolated from 22 of 598 analysed water samples; four clinical isolates were typed using monoclonal antibodies and sequence-based typing. Four Lp1 human strains were ST23, of which two were Philadelphia and two were France-Allentown subgroup. Lp1 ST23 France-Allentown was isolated only from a public fountain. In the case-crossover study, extreme precipitation 5-6 days before symptom onset was associated with increased LD risk. The aerosol dispersion model showed that the fountain matched the case distribution best. The case-control study demonstrated a significant eightfold increase in risk for cases residing near the public fountain. The three studies and the matching of clinical and environmental Lp1 strains identified the fountain as the source responsible for the epidemic.\n",
      "\n",
      "10.1002/ajmg.a.61590\n",
      "Expanding the clinical spectrum of mitochondrial 3-hydroxy-3-methylglutaryl-CoA synthase deficiency with Turkish cases harboring novel HMGCS2 gene mutations and literature review.\n",
      "Mitochondrial 3-hydroxy-3-methylglutaryl-CoA synthase (mHS) deficiency is a very rare autosomal recessive inborn error of ketone body synthesis and presents with hypoketotic hypoglycemia, metabolic acidosis, lethargy, encephalopathy, and hepatomegaly with fatty liver precipitated by catabolic stress. We report acute presentation of two patients from unrelated two families with novel homozygous c.862C>T and c.725-2A>C mutations, respectively, in HMGCS2 gene. Affected patients had severe hypoketotic hypoglycemia, lethargy, encephalopathy, severe metabolic and lactic acidosis and hepatomegaly after infections. Surprisingly, molecular screening of the second family showed more affected patients without clinical findings. These cases expand the clinic spectrum of this extremely rare disease.\n",
      "\n",
      "10.1097/WNO.0000000000000903\n",
      "Localizing Thalamomesencephalic Afferent and Efferent Pupillary Defects.\n",
      "A 42-year-old Algerian man presented for binocular oblique diplopia, hypersomnolence with drop attacks, bilateral hearing loss, and thoracic pain. He had a right thalamomesencephalic hemorrhage due to an underlying cavernous malformation treated with subtotal surgical resection. On neuro-ophthalmic examination, the patient had a left relative afferent pupillary defect and a right oculosympathetic efferent pupillary defect (i.e., Horner syndrome) in addition to other thalamomesencephalic eye and neurologic signs (right fourth nerve palsy, hearing loss, hemiparesis, and thalamic pain). Clinicians should recognize the localizing value of this unique constellation of mesencephalic afferent and efferent pupillary defects.\n",
      "\n",
      "10.1007/s12024-020-00242-3\n",
      "Giant cell aortitis.\n",
      "Inflammatory aortic diseases are broadly classified into three categories according to the degree of inflammation: atherosclerosis, atherosclerosis with excessive inflammation, and aortitis/periaortitis. This paper presents a case of a 39-year old man with aneurysmal dilatation of thoracic aorta and aortic valve insufficiency. The aortic wall showed thickening and wrinkled \"tree bark\" appearance as well as apparent scarring of the intima. Histological examination revealed intimal hyperplasia, a granulomatous/giant cell pattern in the inner tunica media, a few epithelioid macrophages, abundant chronic lymphoplasmacytic and histiocytic inflammation and discrete fibrinoid necrosis. The histological findings were indicative of Horton's disease, but no typical clinical features were present. The case illustrates the difficulties involved in diagnosing inflammatory aortic diseases where it may be challenging to arrive at a specific diagnosis despite the knowledge of medical history, and available macroscopic and histological findings.\n",
      "\n",
      "10.1136/bcr-2018-228356\n",
      "False-positive serologies for acute hepatitis A and autoimmune hepatitis in a patient with acute Epstein-Barr virus infection.\n",
      "Acute hepatitis remains a diagnostic challenge, and numerous infectious, metabolic and autoimmune diseases need to be effectively excluded. We present a case of a young woman with malaise, fever, jaundice and deranged liver function tests. Testing for Epstein-Barr virus (EBV) virus capsid antigen IgM/IgG was positive. Total IgG was elevated, along with positive serology for anti-hepatitis A virus (HAV)-IgM, antinuclear antibodies (ANAs) and soluble liver antigen (SLA) leading to the differential diagnosis of acute hepatitis A and autoimmune hepatitis. No specific treatment was started and liver function gradually improved. At week 4, HAV IgG and IgM were negative. At month 4, ANA and SLA were negative and total IgG normalised; EBV nuclear antigen became positive. Testing for EBV is an investigation required at baseline in acute hepatitis and physicians should carefully evaluate serological results, including those for viral and autoimmune hepatitis that may be falsely positive in infectious mononucleosis.\n",
      "\n",
      "10.1097/MD.0000000000018612\n",
      "Uterus transplant graft's arterial atherosclerotic remodeling veracity.\n",
      "Uterus transplantation is a complex, multi-step experimental procedure used for the treatment of uterus absence or uterus anomaly that prevents embryo implantation or pregnancy completion. To date, only 51 uterus transplants worldwide had been performed. When simplified, it is vascularized composite allograft transplantation. While it is still an experimental procedure with encouraging results for the future, there are still many issues that have to be clarified. The most serious complications of uterus transplantation are graft rejection or grafts vascular failure. So far, no reference to the atherosclerotic arterial infiltration of the uterus arteries was suggested and studied as one of the main causes of graft's failure. In this review we summarized current knowledge and possible role of uterus arterial damage, including atherosclerotic changes on the graft's survival.\n",
      "\n",
      "10.1016/j.wneu.2019.03.278\n",
      "Pretruncal Nonaneurysmal Subarachnoid Hemorrhage with Underlying Hemophilia C.\n",
      "Pretruncal nonaneurysmal subarachnoid hemorrhage (PNSAH) accounts for 15%-12% of all case of subarachnoid hemorrhage. Its precise etiology is not yet established. Multiple theories and risk factors have been investigated to address the possible cause of this type of hemorrhage including basilar tip dissecting aneurysms, high spinal arteriovenous fistula, venous stenosis/hypertension or venous bleeding. Hereditary coagulopathies and hemophilias have rarely been reported in the literature as a potential cause of PNSAH. Here, we reported a rare case of PNSAH with negative angiogram and magnetic resonance imaging who was also found to have hemophilia C (factor XI deficiency) confirmed by laboratory investigation. We also included a literature review of hereditary coagulopathies and their role as a possible cause of PNSAH. Detailed medical history and physical examination of patients with PNSAH may lead to further hematologic evaluation for this group of patients, as in this case, and may reveal more cases of mild coagulopathy that require treatment.\n",
      "\n",
      "10.1097/BPB.0000000000000594\n",
      "Simultaneous lateral column shortening along with differential distraction by Joshi's external stabilization system for rigid neglected clubfoot correction.\n",
      "Correction of rigid clubfoot in an older child by gradual differential distraction using the Ilizarov's device or Joshi's external stabilization system (JESS) is a time-consuming procedure. We simultaneously combined the lateral column shortening by cuboid wedge resection along with the differential distraction by application of JESS fixator for the treatment of severe, rigid, neglected, or relapsed congenital talipes equinovarus (CTEV) foot deformity in 30 feet in 18 children with mean age of 5.3 years and mean follow-up of 27.6 months. The mean pretreatment Pirani score was 5.3 which improved to mean Pirani score after treatment of 1.4. Excellent results were obtained in 22 (71.33%) feet, good results in four (13.33%) feet, and poor results in four (13.33%) feet. The average period for distraction in our series was 6.3 weeks, and total average period of fixator in place was 11.2 weeks. To conclude, lateral column shortening with JESS application simultaneously gives early good to excellent short-term results, and the combination of techniques permits rapid correction of deformity, and thus reducing the time for which the fixator is in place and hence has better acceptance by the patient.\n",
      "\n"
     ]
    }
   ],
   "source": [
    "# false +ves\n",
    "for i, row in test[(test['keras_pred']==1) & (test['casereport']==0)].iterrows():\n",
    "    print(row['doi'])\n",
    "    print(row['articletitle'])\n",
    "    print(row['abstract'])\n",
    "    print()\n"
   ]
  },
  {
   "cell_type": "code",
   "execution_count": 75,
   "metadata": {},
   "outputs": [
    {
     "data": {
      "text/html": [
       "<div>\n",
       "<style scoped>\n",
       "    .dataframe tbody tr th:only-of-type {\n",
       "        vertical-align: middle;\n",
       "    }\n",
       "\n",
       "    .dataframe tbody tr th {\n",
       "        vertical-align: top;\n",
       "    }\n",
       "\n",
       "    .dataframe thead th {\n",
       "        text-align: right;\n",
       "    }\n",
       "</style>\n",
       "<table border=\"1\" class=\"dataframe\">\n",
       "  <thead>\n",
       "    <tr style=\"text-align: right;\">\n",
       "      <th></th>\n",
       "      <th>doi</th>\n",
       "      <th>articletitle</th>\n",
       "      <th>abstract</th>\n",
       "      <th>tiabs</th>\n",
       "      <th>casereport</th>\n",
       "      <th>svc_pred</th>\n",
       "      <th>xgb_pred</th>\n",
       "      <th>keras_pred</th>\n",
       "      <th>ensemble</th>\n",
       "    </tr>\n",
       "  </thead>\n",
       "  <tbody>\n",
       "  </tbody>\n",
       "</table>\n",
       "</div>"
      ],
      "text/plain": [
       "Empty DataFrame\n",
       "Columns: [doi, articletitle, abstract, tiabs, casereport, svc_pred, xgb_pred, keras_pred, ensemble]\n",
       "Index: []"
      ]
     },
     "execution_count": 75,
     "metadata": {},
     "output_type": "execute_result"
    }
   ],
   "source": [
    "# false -ves\n",
    "test[(test['keras_pred']==0) & (test['casereport']=='1')]"
   ]
  },
  {
   "cell_type": "code",
   "execution_count": null,
   "metadata": {},
   "outputs": [],
   "source": []
  }
 ],
 "metadata": {
  "kernelspec": {
   "display_name": "tfpy37",
   "language": "python",
   "name": "tfpy37"
  },
  "language_info": {
   "codemirror_mode": {
    "name": "ipython",
    "version": 3
   },
   "file_extension": ".py",
   "mimetype": "text/x-python",
   "name": "python",
   "nbconvert_exporter": "python",
   "pygments_lexer": "ipython3",
   "version": "3.7.10"
  }
 },
 "nbformat": 4,
 "nbformat_minor": 4
}
